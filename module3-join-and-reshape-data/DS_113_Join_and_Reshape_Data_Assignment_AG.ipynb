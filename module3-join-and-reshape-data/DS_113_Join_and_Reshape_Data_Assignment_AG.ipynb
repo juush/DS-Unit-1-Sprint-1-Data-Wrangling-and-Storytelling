{
 "cells": [
  {
   "cell_type": "markdown",
   "metadata": {},
   "source": [
    "# Data Science - Unit 1 Sprint 1 Module 3\n",
    "\n",
    "## Join and Reshape Data \n",
    "\n",
    "### Module Learning Objectives\n",
    "\n",
    "* Concatenate data using the pandas concat method\n",
    "* Merge data using pandas merge\n",
    "* Define the concept of tidy data and describe the format\n",
    "* Tidy data\n",
    "\n",
    "### Helpful Resources\n",
    "\n",
    "* [Pandas Cheat Sheet](https://github.com/pandas-dev/pandas/blob/master/doc/cheatsheet/Pandas_Cheat_Sheet.pdf)\n",
    "* Python Data Science Handbook\n",
    "    * [Chapter 3.6](https://jakevdp.github.io/PythonDataScienceHandbook/03.06-concat-and-append.html), Combining Datasets: Concat and Append\n",
    "    * [Chapter 3.7](https://jakevdp.github.io/PythonDataScienceHandbook/03.07-merge-and-join.html), Combining Datasets: Merge and Join\n",
    "    * [Chapter 3.8](https://jakevdp.github.io/PythonDataScienceHandbook/03.08-aggregation-and-grouping.html), Aggregation and Grouping\n",
    "    * [Chapter 3.9](https://jakevdp.github.io/PythonDataScienceHandbook/03.09-pivot-tables.html), Pivot Tables\n",
    "    \n",
    "### Notebook points: 8"
   ]
  },
  {
   "cell_type": "markdown",
   "metadata": {},
   "source": [
    "## Introduction\n",
    "\n",
    "In this Module Project, we're going to focus on manipulating data: loading multiple datasets from different locations, concatenating, merging, and even the fancy pandas `groupby` method.\n",
    "\n",
    "## Dataset Description\n",
    "\n",
    "You can view the CSV files [here](https://github.com/LambdaSchool/data-science-practice-datasets/tree/main/unit_1/Instacart_small), before you load them into your notebook."
   ]
  },
  {
   "cell_type": "markdown",
   "metadata": {},
   "source": [
    "**Task 1** - Load CSV files\n",
    "\n",
    "We're going to look at the Instacart data and load the files as we need them. The Pandas and numpy import statements have been provided for you as well as the URL for the dataset.\n",
    "\n",
    "* Using the provided URL (`data_url1`) load the product CSV file into a DataFrame called `product_names`.\n",
    "* Print the top five records (or rows) of `product_names`."
   ]
  },
  {
   "cell_type": "code",
   "execution_count": 3,
   "metadata": {
    "deletable": false,
    "nbgrader": {
     "cell_type": "code",
     "checksum": "0df9e574dae5253e3ce8f5cd52cf1eb0",
     "grade": false,
     "grade_id": "cell-ef51cab74649e553",
     "locked": false,
     "schema_version": 3,
     "solution": true,
     "task": false
    }
   },
   "outputs": [
    {
     "data": {
      "text/plain": "   product_id                                    product_name  aisle_id  \\\n0       45676  Oil Free Acne Stress Control Power Clear Scrub        73   \n1       35408                      Soymilk Vanilla Value Size        91   \n2       37442                                       Vegan Egg        86   \n3       41599                 Organic Echinacea Herb Capsules        47   \n4       21994                      Premium Saline Nasal Spray        11   \n\n   department_id  \n0             11  \n1             16  \n2             16  \n3             11  \n4             11  ",
      "text/html": "<div>\n<style scoped>\n    .dataframe tbody tr th:only-of-type {\n        vertical-align: middle;\n    }\n\n    .dataframe tbody tr th {\n        vertical-align: top;\n    }\n\n    .dataframe thead th {\n        text-align: right;\n    }\n</style>\n<table border=\"1\" class=\"dataframe\">\n  <thead>\n    <tr style=\"text-align: right;\">\n      <th></th>\n      <th>product_id</th>\n      <th>product_name</th>\n      <th>aisle_id</th>\n      <th>department_id</th>\n    </tr>\n  </thead>\n  <tbody>\n    <tr>\n      <th>0</th>\n      <td>45676</td>\n      <td>Oil Free Acne Stress Control Power Clear Scrub</td>\n      <td>73</td>\n      <td>11</td>\n    </tr>\n    <tr>\n      <th>1</th>\n      <td>35408</td>\n      <td>Soymilk Vanilla Value Size</td>\n      <td>91</td>\n      <td>16</td>\n    </tr>\n    <tr>\n      <th>2</th>\n      <td>37442</td>\n      <td>Vegan Egg</td>\n      <td>86</td>\n      <td>16</td>\n    </tr>\n    <tr>\n      <th>3</th>\n      <td>41599</td>\n      <td>Organic Echinacea Herb Capsules</td>\n      <td>47</td>\n      <td>11</td>\n    </tr>\n    <tr>\n      <th>4</th>\n      <td>21994</td>\n      <td>Premium Saline Nasal Spray</td>\n      <td>11</td>\n      <td>11</td>\n    </tr>\n  </tbody>\n</table>\n</div>"
     },
     "execution_count": 3,
     "metadata": {},
     "output_type": "execute_result"
    }
   ],
   "source": [
    "# Task 1\n",
    "\n",
    "# Imports \n",
    "import pandas as pd\n",
    "import numpy as np\n",
    "\n",
    "# Dataset URL\n",
    "data_url1 = 'https://raw.githubusercontent.com/bloominstituteoftechnology/data-science-practice-datasets/main/unit_1/Instacart_small/product_names_sm.csv'\n",
    "# YOUR CODE HERE\n",
    "product_names = pd.read_csv(data_url1)\n",
    "\n",
    "# View the DataFrame\n",
    "product_names.head()"
   ]
  },
  {
   "cell_type": "code",
   "execution_count": 7,
   "metadata": {
    "deletable": false,
    "editable": false,
    "nbgrader": {
     "cell_type": "code",
     "checksum": "bea14a7668c2db125da981949f9ca157",
     "grade": true,
     "grade_id": "cell-cf00b9647815499e",
     "locked": true,
     "points": 1,
     "schema_version": 3,
     "solution": false,
     "task": false
    }
   },
   "outputs": [],
   "source": [
    "# Task 1 - Test\n",
    "\n",
    "assert isinstance(product_names, pd.DataFrame), 'Have you created a DataFrame named `product_names`?'\n",
    "assert len(product_names) == 25000\n"
   ]
  },
  {
   "cell_type": "markdown",
   "metadata": {},
   "source": [
    "**Task 2** - DataFrame concatenation\n",
    "\n",
    "Next, we're going to load two additional CSV files. The URLs have been provided so your task is to load the files into the appropriately named DataFrames and then to concatenate them into one DataFrame.\n",
    "\n",
    "* Load the CSV file at `data_url2` into a DataFrame called `order_products_prior`.\n",
    "* Load the CSV file at `data_url3` into a DataFrame called `order_products_train`.\n",
    "* Concatenate `order_products_prior` and `order_products_train` into one DataFrame called `order_products`."
   ]
  },
  {
   "cell_type": "code",
   "execution_count": 32,
   "metadata": {
    "deletable": false,
    "nbgrader": {
     "cell_type": "code",
     "checksum": "0e2a4229faf4b498e687f1c24477d172",
     "grade": false,
     "grade_id": "cell-0f442142d6bc8c39",
     "locked": false,
     "schema_version": 3,
     "solution": true,
     "task": false
    }
   },
   "outputs": [
    {
     "data": {
      "text/plain": "       order_id  product_id  add_to_cart_order  reordered\n0       3178234       22620                  2          0\n1       2319083       27156                 14          0\n2       1951854        5818                  9          1\n3       1615787       40198                 13          0\n4       1666094       14491                 13          0\n...         ...         ...                ...        ...\n49995   3391867       32578                  8          1\n49996   1469842       27104                  8          1\n49997    400631       28204                 13          1\n49998   2831206       34786                  6          0\n49999   1901789       25824                 13          0\n\n[50000 rows x 4 columns]",
      "text/html": "<div>\n<style scoped>\n    .dataframe tbody tr th:only-of-type {\n        vertical-align: middle;\n    }\n\n    .dataframe tbody tr th {\n        vertical-align: top;\n    }\n\n    .dataframe thead th {\n        text-align: right;\n    }\n</style>\n<table border=\"1\" class=\"dataframe\">\n  <thead>\n    <tr style=\"text-align: right;\">\n      <th></th>\n      <th>order_id</th>\n      <th>product_id</th>\n      <th>add_to_cart_order</th>\n      <th>reordered</th>\n    </tr>\n  </thead>\n  <tbody>\n    <tr>\n      <th>0</th>\n      <td>3178234</td>\n      <td>22620</td>\n      <td>2</td>\n      <td>0</td>\n    </tr>\n    <tr>\n      <th>1</th>\n      <td>2319083</td>\n      <td>27156</td>\n      <td>14</td>\n      <td>0</td>\n    </tr>\n    <tr>\n      <th>2</th>\n      <td>1951854</td>\n      <td>5818</td>\n      <td>9</td>\n      <td>1</td>\n    </tr>\n    <tr>\n      <th>3</th>\n      <td>1615787</td>\n      <td>40198</td>\n      <td>13</td>\n      <td>0</td>\n    </tr>\n    <tr>\n      <th>4</th>\n      <td>1666094</td>\n      <td>14491</td>\n      <td>13</td>\n      <td>0</td>\n    </tr>\n    <tr>\n      <th>...</th>\n      <td>...</td>\n      <td>...</td>\n      <td>...</td>\n      <td>...</td>\n    </tr>\n    <tr>\n      <th>49995</th>\n      <td>3391867</td>\n      <td>32578</td>\n      <td>8</td>\n      <td>1</td>\n    </tr>\n    <tr>\n      <th>49996</th>\n      <td>1469842</td>\n      <td>27104</td>\n      <td>8</td>\n      <td>1</td>\n    </tr>\n    <tr>\n      <th>49997</th>\n      <td>400631</td>\n      <td>28204</td>\n      <td>13</td>\n      <td>1</td>\n    </tr>\n    <tr>\n      <th>49998</th>\n      <td>2831206</td>\n      <td>34786</td>\n      <td>6</td>\n      <td>0</td>\n    </tr>\n    <tr>\n      <th>49999</th>\n      <td>1901789</td>\n      <td>25824</td>\n      <td>13</td>\n      <td>0</td>\n    </tr>\n  </tbody>\n</table>\n<p>50000 rows × 4 columns</p>\n</div>"
     },
     "execution_count": 32,
     "metadata": {},
     "output_type": "execute_result"
    }
   ],
   "source": [
    "# Task 2\n",
    "\n",
    "# Dataset URLs\n",
    "data_url2 = 'https://raw.githubusercontent.com/bloominstituteoftechnology/data-science-practice-datasets/main/unit_1/Instacart_small/order_products_prior_sm.csv'\n",
    "data_url3 = 'https://raw.githubusercontent.com/bloominstituteoftechnology/data-science-practice-datasets/main/unit_1/Instacart_small/order_products_train_sm.csv'\n",
    "\n",
    "# YOUR CODE HERE\n",
    "order_products_prior = pd.read_csv(data_url2)\n",
    "order_products_train = pd.read_csv(data_url3)\n",
    "order_products = order_products_train.merge(order_products_prior, how=\"outer\")\n",
    "order_products\n",
    "\n",
    "# Print the head to view your results\n",
    "# order_products.head()"
   ]
  },
  {
   "cell_type": "code",
   "execution_count": 19,
   "metadata": {
    "deletable": false,
    "editable": false,
    "nbgrader": {
     "cell_type": "code",
     "checksum": "f90e3884b129f04c1f9f5ff1402ba9eb",
     "grade": true,
     "grade_id": "cell-3637e4ba19b79349",
     "locked": true,
     "points": 1,
     "schema_version": 3,
     "solution": false,
     "task": false
    }
   },
   "outputs": [],
   "source": [
    "# Task 2 - Test\n",
    "\n",
    "assert isinstance(order_products, pd.DataFrame), 'Have you created a DataFrame named `order_products`?'\n",
    "assert len(order_products) == 50000\n"
   ]
  },
  {
   "cell_type": "code",
   "execution_count": null,
   "metadata": {},
   "outputs": [],
   "source": []
  },
  {
   "cell_type": "markdown",
   "metadata": {},
   "source": [
    "**Task 3** - Top five (5) products\n",
    "\n",
    "We're going to create a list of the top five products - we've already determined what the top five are so now it's your turn to put these items in a list.\n",
    "\n",
    "* Create a list called `five_products` with the following items: \"Bag of Organic Bananas\", \"Organic Baby Spinach\", \"Organic Avocado\", \"Large Lemon\", \"Limes\"\n",
    "\n",
    "*Note: Make sure to create the list with exact spelling as shown above!*"
   ]
  },
  {
   "cell_type": "code",
   "execution_count": 39,
   "metadata": {
    "deletable": false,
    "nbgrader": {
     "cell_type": "code",
     "checksum": "a74a9f3e51ccd3e67edee7c3ba313176",
     "grade": false,
     "grade_id": "cell-ad8e4664b33be149",
     "locked": false,
     "schema_version": 3,
     "solution": true,
     "task": false
    }
   },
   "outputs": [],
   "source": [
    "# Task 3\n",
    "\n",
    "# Top 5 products: five_products\n",
    "\n",
    "# YOUR CODE HERE\n",
    "five_products = [\"Bag of Organic Bananas\", \"Organic Baby Spinach\", \"Organic Avocado\", \"Large Lemon\", \"Limes\"]"
   ]
  },
  {
   "cell_type": "code",
   "execution_count": 40,
   "metadata": {
    "deletable": false,
    "editable": false,
    "nbgrader": {
     "cell_type": "code",
     "checksum": "478aa2cdb0f03f5201d8745472e07641",
     "grade": true,
     "grade_id": "cell-0e8a931d7088b469",
     "locked": true,
     "points": 1,
     "schema_version": 3,
     "solution": false,
     "task": false
    }
   },
   "outputs": [],
   "source": [
    "# Task 3 - Test\n",
    "\n",
    "assert isinstance(five_products, list), 'Have you created the five_products list?'\n",
    "assert len(five_products) == 5, \"Make sure you created the list correctly\"\n",
    "\n",
    "# No hidden tests for this task"
   ]
  },
  {
   "cell_type": "markdown",
   "metadata": {},
   "source": [
    "**Task 4** - DataFrame subset using merge\n",
    "\n",
    "Create a subset of the `product_names` dataset that includes just the top **five** most ordered products. The `five_products` list has been converted to a DataFrame with the name `five`. Your task is to merge these DataFrames.\n",
    "\n",
    "* Merge `product_names` and `five` so the resulting DataFrame only includes the 5 most ordered products.  Name that DataFrame `top_products`."
   ]
  },
  {
   "cell_type": "code",
   "execution_count": 45,
   "metadata": {
    "deletable": false,
    "nbgrader": {
     "cell_type": "code",
     "checksum": "1fbfef858418ece087910d0599f1e929",
     "grade": false,
     "grade_id": "cell-7818f18ec6921fb0",
     "locked": false,
     "schema_version": 3,
     "solution": true,
     "task": false
    }
   },
   "outputs": [
    {
     "data": {
      "text/plain": "   product_id            product_name  aisle_id  department_id\n0       13176  Bag of Organic Bananas        24              4\n1       21903    Organic Baby Spinach       123              4\n2       47766         Organic Avocado        24              4\n3       47626             Large Lemon        24              4\n4       26209                   Limes        24              4",
      "text/html": "<div>\n<style scoped>\n    .dataframe tbody tr th:only-of-type {\n        vertical-align: middle;\n    }\n\n    .dataframe tbody tr th {\n        vertical-align: top;\n    }\n\n    .dataframe thead th {\n        text-align: right;\n    }\n</style>\n<table border=\"1\" class=\"dataframe\">\n  <thead>\n    <tr style=\"text-align: right;\">\n      <th></th>\n      <th>product_id</th>\n      <th>product_name</th>\n      <th>aisle_id</th>\n      <th>department_id</th>\n    </tr>\n  </thead>\n  <tbody>\n    <tr>\n      <th>0</th>\n      <td>13176</td>\n      <td>Bag of Organic Bananas</td>\n      <td>24</td>\n      <td>4</td>\n    </tr>\n    <tr>\n      <th>1</th>\n      <td>21903</td>\n      <td>Organic Baby Spinach</td>\n      <td>123</td>\n      <td>4</td>\n    </tr>\n    <tr>\n      <th>2</th>\n      <td>47766</td>\n      <td>Organic Avocado</td>\n      <td>24</td>\n      <td>4</td>\n    </tr>\n    <tr>\n      <th>3</th>\n      <td>47626</td>\n      <td>Large Lemon</td>\n      <td>24</td>\n      <td>4</td>\n    </tr>\n    <tr>\n      <th>4</th>\n      <td>26209</td>\n      <td>Limes</td>\n      <td>24</td>\n      <td>4</td>\n    </tr>\n  </tbody>\n</table>\n</div>"
     },
     "execution_count": 45,
     "metadata": {},
     "output_type": "execute_result"
    }
   ],
   "source": [
    "# Task 4\n",
    "\n",
    "# Convert five_products to a DataFrame called five\n",
    "five = pd.DataFrame(five_products, columns =['product_name']) \n",
    "\n",
    "# Create a subset of product_names with only the top 5 products.  \n",
    "# Use your merge statement to include only the top 5 products\n",
    "\n",
    "# YOUR CODE HERE\n",
    "top_products = product_names.merge(five, how=\"right\")\n",
    "\n",
    "# Print your DataFrame to view the merge results\n",
    "top_products"
   ]
  },
  {
   "cell_type": "code",
   "execution_count": 46,
   "metadata": {
    "deletable": false,
    "editable": false,
    "nbgrader": {
     "cell_type": "code",
     "checksum": "9769c64dd865fbdbc362cbcc974844fd",
     "grade": true,
     "grade_id": "cell-e329e3cdc129ba49",
     "locked": true,
     "points": 1,
     "schema_version": 3,
     "solution": false,
     "task": false
    }
   },
   "outputs": [],
   "source": [
    "# Task 4 - Test\n",
    "assert isinstance(top_products, pd.DataFrame), 'Have you created a DataFrame named `top_products`?'\n"
   ]
  },
  {
   "cell_type": "markdown",
   "metadata": {},
   "source": [
    "**Task 5** - More DataFrame merging\n",
    "\n",
    "Now we're going to merge the first DataFrame we created (`order_products`) with the one we just made above (`top_products`). This will result in a DataFrame with only the top five most ordered products.\n",
    "\n",
    "* Merge `order_products` and `top_products` and name the resulting DataFrame `final`.\n",
    "* Print the top 20 rows of `final` to view your result."
   ]
  },
  {
   "cell_type": "code",
   "execution_count": 49,
   "metadata": {
    "deletable": false,
    "nbgrader": {
     "cell_type": "code",
     "checksum": "114fe0fcbaf51fedcc9596086c31fbd4",
     "grade": false,
     "grade_id": "cell-977f302dd89af1df",
     "locked": false,
     "schema_version": 3,
     "solution": true,
     "task": false
    }
   },
   "outputs": [
    {
     "data": {
      "text/plain": "    order_id  product_id  add_to_cart_order  reordered  \\\n0    1982354       13176                  4          1   \n1     161826       13176                  2          1   \n2    1497069       13176                  3          1   \n3    1132855       13176                  2          1   \n4    2223291       13176                  1          1   \n5    1160373       13176                  1          1   \n6    1391675       13176                  1          1   \n7     200697       13176                  2          1   \n8     397516       13176                  1          1   \n9    1862842       13176                  2          1   \n10   2359522       13176                  1          1   \n11    892463       13176                  5          0   \n12   3122603       13176                 14          1   \n13    376478       13176                  1          1   \n14   2270271       13176                  5          1   \n15    254069       13176                  3          1   \n16   2664846       13176                  3          0   \n17   1632120       13176                  1          1   \n18    582819       13176                  1          1   \n19   2902091       13176                  1          1   \n\n              product_name  aisle_id  department_id  \n0   Bag of Organic Bananas        24              4  \n1   Bag of Organic Bananas        24              4  \n2   Bag of Organic Bananas        24              4  \n3   Bag of Organic Bananas        24              4  \n4   Bag of Organic Bananas        24              4  \n5   Bag of Organic Bananas        24              4  \n6   Bag of Organic Bananas        24              4  \n7   Bag of Organic Bananas        24              4  \n8   Bag of Organic Bananas        24              4  \n9   Bag of Organic Bananas        24              4  \n10  Bag of Organic Bananas        24              4  \n11  Bag of Organic Bananas        24              4  \n12  Bag of Organic Bananas        24              4  \n13  Bag of Organic Bananas        24              4  \n14  Bag of Organic Bananas        24              4  \n15  Bag of Organic Bananas        24              4  \n16  Bag of Organic Bananas        24              4  \n17  Bag of Organic Bananas        24              4  \n18  Bag of Organic Bananas        24              4  \n19  Bag of Organic Bananas        24              4  ",
      "text/html": "<div>\n<style scoped>\n    .dataframe tbody tr th:only-of-type {\n        vertical-align: middle;\n    }\n\n    .dataframe tbody tr th {\n        vertical-align: top;\n    }\n\n    .dataframe thead th {\n        text-align: right;\n    }\n</style>\n<table border=\"1\" class=\"dataframe\">\n  <thead>\n    <tr style=\"text-align: right;\">\n      <th></th>\n      <th>order_id</th>\n      <th>product_id</th>\n      <th>add_to_cart_order</th>\n      <th>reordered</th>\n      <th>product_name</th>\n      <th>aisle_id</th>\n      <th>department_id</th>\n    </tr>\n  </thead>\n  <tbody>\n    <tr>\n      <th>0</th>\n      <td>1982354</td>\n      <td>13176</td>\n      <td>4</td>\n      <td>1</td>\n      <td>Bag of Organic Bananas</td>\n      <td>24</td>\n      <td>4</td>\n    </tr>\n    <tr>\n      <th>1</th>\n      <td>161826</td>\n      <td>13176</td>\n      <td>2</td>\n      <td>1</td>\n      <td>Bag of Organic Bananas</td>\n      <td>24</td>\n      <td>4</td>\n    </tr>\n    <tr>\n      <th>2</th>\n      <td>1497069</td>\n      <td>13176</td>\n      <td>3</td>\n      <td>1</td>\n      <td>Bag of Organic Bananas</td>\n      <td>24</td>\n      <td>4</td>\n    </tr>\n    <tr>\n      <th>3</th>\n      <td>1132855</td>\n      <td>13176</td>\n      <td>2</td>\n      <td>1</td>\n      <td>Bag of Organic Bananas</td>\n      <td>24</td>\n      <td>4</td>\n    </tr>\n    <tr>\n      <th>4</th>\n      <td>2223291</td>\n      <td>13176</td>\n      <td>1</td>\n      <td>1</td>\n      <td>Bag of Organic Bananas</td>\n      <td>24</td>\n      <td>4</td>\n    </tr>\n    <tr>\n      <th>5</th>\n      <td>1160373</td>\n      <td>13176</td>\n      <td>1</td>\n      <td>1</td>\n      <td>Bag of Organic Bananas</td>\n      <td>24</td>\n      <td>4</td>\n    </tr>\n    <tr>\n      <th>6</th>\n      <td>1391675</td>\n      <td>13176</td>\n      <td>1</td>\n      <td>1</td>\n      <td>Bag of Organic Bananas</td>\n      <td>24</td>\n      <td>4</td>\n    </tr>\n    <tr>\n      <th>7</th>\n      <td>200697</td>\n      <td>13176</td>\n      <td>2</td>\n      <td>1</td>\n      <td>Bag of Organic Bananas</td>\n      <td>24</td>\n      <td>4</td>\n    </tr>\n    <tr>\n      <th>8</th>\n      <td>397516</td>\n      <td>13176</td>\n      <td>1</td>\n      <td>1</td>\n      <td>Bag of Organic Bananas</td>\n      <td>24</td>\n      <td>4</td>\n    </tr>\n    <tr>\n      <th>9</th>\n      <td>1862842</td>\n      <td>13176</td>\n      <td>2</td>\n      <td>1</td>\n      <td>Bag of Organic Bananas</td>\n      <td>24</td>\n      <td>4</td>\n    </tr>\n    <tr>\n      <th>10</th>\n      <td>2359522</td>\n      <td>13176</td>\n      <td>1</td>\n      <td>1</td>\n      <td>Bag of Organic Bananas</td>\n      <td>24</td>\n      <td>4</td>\n    </tr>\n    <tr>\n      <th>11</th>\n      <td>892463</td>\n      <td>13176</td>\n      <td>5</td>\n      <td>0</td>\n      <td>Bag of Organic Bananas</td>\n      <td>24</td>\n      <td>4</td>\n    </tr>\n    <tr>\n      <th>12</th>\n      <td>3122603</td>\n      <td>13176</td>\n      <td>14</td>\n      <td>1</td>\n      <td>Bag of Organic Bananas</td>\n      <td>24</td>\n      <td>4</td>\n    </tr>\n    <tr>\n      <th>13</th>\n      <td>376478</td>\n      <td>13176</td>\n      <td>1</td>\n      <td>1</td>\n      <td>Bag of Organic Bananas</td>\n      <td>24</td>\n      <td>4</td>\n    </tr>\n    <tr>\n      <th>14</th>\n      <td>2270271</td>\n      <td>13176</td>\n      <td>5</td>\n      <td>1</td>\n      <td>Bag of Organic Bananas</td>\n      <td>24</td>\n      <td>4</td>\n    </tr>\n    <tr>\n      <th>15</th>\n      <td>254069</td>\n      <td>13176</td>\n      <td>3</td>\n      <td>1</td>\n      <td>Bag of Organic Bananas</td>\n      <td>24</td>\n      <td>4</td>\n    </tr>\n    <tr>\n      <th>16</th>\n      <td>2664846</td>\n      <td>13176</td>\n      <td>3</td>\n      <td>0</td>\n      <td>Bag of Organic Bananas</td>\n      <td>24</td>\n      <td>4</td>\n    </tr>\n    <tr>\n      <th>17</th>\n      <td>1632120</td>\n      <td>13176</td>\n      <td>1</td>\n      <td>1</td>\n      <td>Bag of Organic Bananas</td>\n      <td>24</td>\n      <td>4</td>\n    </tr>\n    <tr>\n      <th>18</th>\n      <td>582819</td>\n      <td>13176</td>\n      <td>1</td>\n      <td>1</td>\n      <td>Bag of Organic Bananas</td>\n      <td>24</td>\n      <td>4</td>\n    </tr>\n    <tr>\n      <th>19</th>\n      <td>2902091</td>\n      <td>13176</td>\n      <td>1</td>\n      <td>1</td>\n      <td>Bag of Organic Bananas</td>\n      <td>24</td>\n      <td>4</td>\n    </tr>\n  </tbody>\n</table>\n</div>"
     },
     "execution_count": 49,
     "metadata": {},
     "output_type": "execute_result"
    }
   ],
   "source": [
    "# Task 5\n",
    "\n",
    "# Merge order_products and top_products \n",
    "\n",
    "# YOUR CODE HERE\n",
    "final = order_products.merge(top_products, how=\"right\")\n",
    "\n",
    "# Print your final DataFrame\n",
    "final.head(20)"
   ]
  },
  {
   "cell_type": "code",
   "execution_count": 50,
   "metadata": {
    "deletable": false,
    "editable": false,
    "nbgrader": {
     "cell_type": "code",
     "checksum": "8c351ac1f8aa2048ca5465393f9f00b0",
     "grade": true,
     "grade_id": "cell-0c48a0352b6596f5",
     "locked": true,
     "points": 1,
     "schema_version": 3,
     "solution": false,
     "task": false
    }
   },
   "outputs": [],
   "source": [
    "# Task 5 - Test\n",
    "\n",
    "assert isinstance(final, pd.DataFrame), 'Have you created a DataFrame named `final`?'\n"
   ]
  },
  {
   "cell_type": "markdown",
   "metadata": {},
   "source": [
    "**Task 6** - Top five products - value counts\n",
    "\n",
    "Note that every record in `final` is a single instance in which someone ordered one of the top five products.  Your task is to calcluate the number of times each product was ordered.\n",
    "\n",
    "* Calculate the **number of times** each product was ordered using `value_counts()`. Name the result `food_frequency`.\n",
    "* Assign the most frequently ordered food to the variable `top_item` (your variable should be a string; make sure to use the exact formatting returned above)."
   ]
  },
  {
   "cell_type": "code",
   "execution_count": 51,
   "metadata": {},
   "outputs": [
    {
     "data": {
      "text/plain": "(1670, 7)"
     },
     "execution_count": 51,
     "metadata": {},
     "output_type": "execute_result"
    }
   ],
   "source": [
    "final.shape"
   ]
  },
  {
   "cell_type": "code",
   "execution_count": 118,
   "metadata": {
    "deletable": false,
    "nbgrader": {
     "cell_type": "code",
     "checksum": "8887b2bfa48c9f0c5c7fc745621e0483",
     "grade": false,
     "grade_id": "cell-9a3735ded06b8419",
     "locked": false,
     "schema_version": 3,
     "solution": true,
     "task": false
    }
   },
   "outputs": [
    {
     "data": {
      "text/plain": "product_name          \nBag of Organic Bananas    561\nOrganic Baby Spinach      360\nLarge Lemon               283\nOrganic Avocado           269\nLimes                     197\ndtype: int64"
     },
     "execution_count": 118,
     "metadata": {},
     "output_type": "execute_result"
    }
   ],
   "source": [
    "# Task 6\n",
    "\n",
    "# Determine the number of times each product was ordered\n",
    "\n",
    "# YOUR CODE HERE\n",
    "food_frequency = final[[\"product_name\"]].value_counts()\n",
    "top_item = final[\"product_name\"][0]\n",
    "# View your results\n",
    "food_frequency.head()"
   ]
  },
  {
   "cell_type": "code",
   "execution_count": 117,
   "metadata": {
    "deletable": false,
    "editable": false,
    "nbgrader": {
     "cell_type": "code",
     "checksum": "1cb6f43a74e4166ee50b1e07c085a8ec",
     "grade": true,
     "grade_id": "cell-e7858bb55bf086fb",
     "locked": true,
     "points": 1,
     "schema_version": 3,
     "solution": false,
     "task": false
    }
   },
   "outputs": [
    {
     "ename": "AssertionError",
     "evalue": "Check to make sure you merged correctly",
     "output_type": "error",
     "traceback": [
      "\u001B[0;31m---------------------------------------------------------------------------\u001B[0m",
      "\u001B[0;31mAssertionError\u001B[0m                            Traceback (most recent call last)",
      "Cell \u001B[0;32mIn[117], line 2\u001B[0m\n\u001B[1;32m      1\u001B[0m \u001B[38;5;66;03m# Task 6 - Test\u001B[39;00m\n\u001B[0;32m----> 2\u001B[0m \u001B[38;5;28;01massert\u001B[39;00m food_frequency\u001B[38;5;241m.\u001B[39mshape \u001B[38;5;241m==\u001B[39m (\u001B[38;5;241m5\u001B[39m,), \u001B[38;5;124m'\u001B[39m\u001B[38;5;124mCheck to make sure you merged correctly\u001B[39m\u001B[38;5;124m'\u001B[39m\n",
      "\u001B[0;31mAssertionError\u001B[0m: Check to make sure you merged correctly"
     ]
    }
   ],
   "source": [
    "# Task 6 - Test\n",
    "assert food_frequency.shape == (5,), 'Check to make sure you merged correctly'\n"
   ]
  },
  {
   "cell_type": "markdown",
   "metadata": {},
   "source": [
    "**Task 7** - Using `groupby()` and `mean()`\n",
    "\n",
    "In this next step, we're going to import one last CSV file and look at the time of day an order was made. Some of the code has been provided for you - your task is to complete the merging and look at the mean time of the top five orders.\n",
    "\n",
    "**Completed for you**\n",
    "* Imported `orders_sm.csv` as the DataFrame `orders`.\n",
    "* Merged `orders` and `final` into a DataFrame called `final_times` that only includes the top five foods.\n",
    "\n",
    "**Your tasks**\n",
    "* Use the `groupby()` and `mean()` functions to calculate the mean time each product was ordered (`order_hour_of_day`).\n",
    "* Name the results of your calculation `mean_hours`."
   ]
  },
  {
   "cell_type": "code",
   "execution_count": 166,
   "metadata": {
    "deletable": false,
    "nbgrader": {
     "cell_type": "code",
     "checksum": "e565b0d1cb4827ce5d2d262839135392",
     "grade": false,
     "grade_id": "cell-8932129638b4d019",
     "locked": false,
     "schema_version": 3,
     "solution": true,
     "task": false
    }
   },
   "outputs": [
    {
     "data": {
      "text/plain": "product_name\nBag of Organic Bananas    13.200000\nLarge Lemon               16.000000\nLimes                     10.333333\nOrganic Avocado           17.500000\nOrganic Baby Spinach      14.500000\nName: order_hour_of_day, dtype: float64"
     },
     "execution_count": 166,
     "metadata": {},
     "output_type": "execute_result"
    }
   ],
   "source": [
    "# Task 7\n",
    "\n",
    "# COMPLETED FOR YOU\n",
    "# Import orders.csv and name the DataFrame orders\n",
    "data_url4 = 'https://raw.githubusercontent.com/bloominstituteoftechnology/data-science-practice-datasets/main/unit_1/Instacart_small/orders_sm.csv'\n",
    "orders = pd.read_csv(data_url4)\n",
    "# Merge orders and final into the DataFrame final_time\n",
    "final_time = pd.merge(orders, final, on='order_id', how='right')\n",
    "\n",
    "# Use groupby() and mean() to calculate the mean time each product was ordered\n",
    "\n",
    "# YOUR CODE HERE\n",
    "mean_hours = final_time.groupby(\"product_name\")[\"order_hour_of_day\"].mean() #df.groupby(\"column\")[\"column\"].mean()\n",
    "\n",
    "# View your results\n",
    "mean_hours.head()\n"
   ]
  },
  {
   "cell_type": "code",
   "execution_count": 149,
   "metadata": {
    "deletable": false,
    "editable": false,
    "nbgrader": {
     "cell_type": "code",
     "checksum": "aa171a08346bc03c81694b5514f1ab2a",
     "grade": true,
     "grade_id": "cell-22190fff81957bb7",
     "locked": true,
     "points": 1,
     "schema_version": 3,
     "solution": false,
     "task": false
    }
   },
   "outputs": [],
   "source": [
    "# Task 7 - Test\n",
    "assert mean_hours.shape == (5,), 'Check to make sure you merged correctly'\n"
   ]
  },
  {
   "cell_type": "markdown",
   "metadata": {},
   "source": [
    "**Task 8** - Mean order time\n",
    "\n",
    "Using the results from above, determine the mean order time for two of the top five items: \"Limes\" and \"Organic Baby Spinach\"\n",
    "\n",
    "* Find the mean order time for \"Limes\" and assign it to the variable `time_limes`. Your answer should be a float defined to one decimal place.\n",
    "* Find the mean order time for \"Organic Baby Spinach\" and assign it to the variable `time_spinach`. You answer should be a float defined to one decimal place."
   ]
  },
  {
   "cell_type": "code",
   "execution_count": 200,
   "metadata": {
    "deletable": false,
    "nbgrader": {
     "cell_type": "code",
     "checksum": "710e71f05c3f22a2dda049a7f398d590",
     "grade": false,
     "grade_id": "cell-b160e1511b2388db",
     "locked": false,
     "schema_version": 3,
     "solution": true,
     "task": false
    }
   },
   "outputs": [],
   "source": [
    "# Task 8\n",
    "\n",
    "# YOUR CODE HERE\n",
    "time_limes = mean_hours[\"Limes\"]\n",
    "time_spinach = mean_hours[\"Organic Baby Spinach\"]\n"
   ]
  },
  {
   "cell_type": "markdown",
   "metadata": {},
   "source": [
    "**Task 8 Test**"
   ]
  },
  {
   "cell_type": "code",
   "execution_count": null,
   "metadata": {
    "deletable": false,
    "editable": false,
    "nbgrader": {
     "cell_type": "code",
     "checksum": "03f2008f561ced4f894cd38f52633ab2",
     "grade": true,
     "grade_id": "cell-c138ab110b2bcf90",
     "locked": true,
     "points": 1,
     "schema_version": 3,
     "solution": false,
     "task": false
    }
   },
   "outputs": [],
   "source": [
    "# Task 8 - Test\n"
   ]
  },
  {
   "cell_type": "code",
   "execution_count": null,
   "metadata": {},
   "outputs": [],
   "source": []
  }
 ],
 "metadata": {
  "kernelspec": {
   "display_name": "Python 3",
   "language": "python",
   "name": "python3"
  },
  "language_info": {
   "codemirror_mode": {
    "name": "ipython",
    "version": 3
   },
   "file_extension": ".py",
   "mimetype": "text/x-python",
   "name": "python",
   "nbconvert_exporter": "python",
   "pygments_lexer": "ipython3",
   "version": "3.8.8"
  }
 },
 "nbformat": 4,
 "nbformat_minor": 4
}
