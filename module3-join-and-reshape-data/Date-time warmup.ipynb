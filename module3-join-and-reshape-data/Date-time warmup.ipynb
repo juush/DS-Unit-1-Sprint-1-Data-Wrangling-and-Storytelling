{
 "cells": [
  {
   "cell_type": "markdown",
   "metadata": {
    "id": "m0G8Kv-MmaHh"
   },
   "source": [
    "# [Objective](#dates-and-times) Work with Dates and Times with Pandas"
   ]
  },
  {
   "cell_type": "markdown",
   "metadata": {
    "id": "565Xjo-RnvLm"
   },
   "source": [
    "## Overview\n",
    "\n",
    "Pandas has its own datetime data type that makes it extremely convenient to convert strings from standard date formats to datetime objects. You can then use those datetime objects to either create new features on a dataframe or work with those features as a time series. \n",
    "\n",
    "This section will demonstrate how to take a column of date strings, convert it to a datetime object and then use the datetime formatting `.dt` to access specific parts of the date (year, month, day) to generate useful columns in a dataframe."
   ]
  },
  {
   "cell_type": "markdown",
   "metadata": {
    "id": "YpoU_2Gknzbz"
   },
   "source": [
    "## Follow Along"
   ]
  },
  {
   "cell_type": "markdown",
   "metadata": {
    "id": "BoQ86d_R79J6"
   },
   "source": [
    "### Work with Dates \n",
    "\n",
    "pandas documentation\n",
    "- [to_datetime](https://pandas.pydata.org/pandas-docs/stable/generated/pandas.to_datetime.html)\n",
    "- [Time/Date Components](https://pandas.pydata.org/pandas-docs/stable/timeseries.html#time-date-components) \"You can access these properties via the `.dt` accessor\"\n",
    "\n"
   ]
  },
  {
   "cell_type": "markdown",
   "metadata": {
    "id": "4b8rbLFPd34s"
   },
   "source": [
    "We'll be working with the Loans dataset (which we will continue to use during the guided project).  To access the Loans dataset, run the next code block without changing anything:"
   ]
  },
  {
   "cell_type": "code",
   "execution_count": 1,
   "metadata": {
    "id": "4793LweyroFI"
   },
   "outputs": [
    {
     "name": "stdout",
     "output_type": "stream",
     "text": [
      "(30000, 144)\n"
     ]
    },
    {
     "data": {
      "text/plain": "   id  member_id  loan_amnt  funded_amnt  funded_amnt_inv        term  \\\n0 NaN        NaN       5525         5525           5525.0   36 months   \n1 NaN        NaN      10000        10000          10000.0   36 months   \n2 NaN        NaN      12000        12000          12000.0   60 months   \n3 NaN        NaN      20000        20000          20000.0   36 months   \n4 NaN        NaN      12000        12000          12000.0   36 months   \n\n  int_rate  installment grade sub_grade  ...  \\\n0   10.72%       180.15     B        B2  ...   \n1   10.08%       323.05     B        B1  ...   \n2   10.08%       255.44     B        B1  ...   \n3    6.46%       612.62     A        A1  ...   \n4    7.02%       370.64     A        A2  ...   \n\n  orig_projected_additional_accrued_interest hardship_payoff_balance_amount  \\\n0                                        NaN                            NaN   \n1                                        NaN                            NaN   \n2                                        NaN                            NaN   \n3                                        NaN                            NaN   \n4                                        NaN                            NaN   \n\n  hardship_last_payment_amount  debt_settlement_flag  \\\n0                          NaN                     N   \n1                          NaN                     N   \n2                          NaN                     N   \n3                          NaN                     N   \n4                          NaN                     N   \n\n  debt_settlement_flag_date settlement_status settlement_date  \\\n0                       NaN               NaN             NaN   \n1                       NaN               NaN             NaN   \n2                       NaN               NaN             NaN   \n3                       NaN               NaN             NaN   \n4                       NaN               NaN             NaN   \n\n  settlement_amount  settlement_percentage  settlement_term  \n0               NaN                    NaN              NaN  \n1               NaN                    NaN              NaN  \n2               NaN                    NaN              NaN  \n3               NaN                    NaN              NaN  \n4               NaN                    NaN              NaN  \n\n[5 rows x 144 columns]",
      "text/html": "<div>\n<style scoped>\n    .dataframe tbody tr th:only-of-type {\n        vertical-align: middle;\n    }\n\n    .dataframe tbody tr th {\n        vertical-align: top;\n    }\n\n    .dataframe thead th {\n        text-align: right;\n    }\n</style>\n<table border=\"1\" class=\"dataframe\">\n  <thead>\n    <tr style=\"text-align: right;\">\n      <th></th>\n      <th>id</th>\n      <th>member_id</th>\n      <th>loan_amnt</th>\n      <th>funded_amnt</th>\n      <th>funded_amnt_inv</th>\n      <th>term</th>\n      <th>int_rate</th>\n      <th>installment</th>\n      <th>grade</th>\n      <th>sub_grade</th>\n      <th>...</th>\n      <th>orig_projected_additional_accrued_interest</th>\n      <th>hardship_payoff_balance_amount</th>\n      <th>hardship_last_payment_amount</th>\n      <th>debt_settlement_flag</th>\n      <th>debt_settlement_flag_date</th>\n      <th>settlement_status</th>\n      <th>settlement_date</th>\n      <th>settlement_amount</th>\n      <th>settlement_percentage</th>\n      <th>settlement_term</th>\n    </tr>\n  </thead>\n  <tbody>\n    <tr>\n      <th>0</th>\n      <td>NaN</td>\n      <td>NaN</td>\n      <td>5525</td>\n      <td>5525</td>\n      <td>5525.0</td>\n      <td>36 months</td>\n      <td>10.72%</td>\n      <td>180.15</td>\n      <td>B</td>\n      <td>B2</td>\n      <td>...</td>\n      <td>NaN</td>\n      <td>NaN</td>\n      <td>NaN</td>\n      <td>N</td>\n      <td>NaN</td>\n      <td>NaN</td>\n      <td>NaN</td>\n      <td>NaN</td>\n      <td>NaN</td>\n      <td>NaN</td>\n    </tr>\n    <tr>\n      <th>1</th>\n      <td>NaN</td>\n      <td>NaN</td>\n      <td>10000</td>\n      <td>10000</td>\n      <td>10000.0</td>\n      <td>36 months</td>\n      <td>10.08%</td>\n      <td>323.05</td>\n      <td>B</td>\n      <td>B1</td>\n      <td>...</td>\n      <td>NaN</td>\n      <td>NaN</td>\n      <td>NaN</td>\n      <td>N</td>\n      <td>NaN</td>\n      <td>NaN</td>\n      <td>NaN</td>\n      <td>NaN</td>\n      <td>NaN</td>\n      <td>NaN</td>\n    </tr>\n    <tr>\n      <th>2</th>\n      <td>NaN</td>\n      <td>NaN</td>\n      <td>12000</td>\n      <td>12000</td>\n      <td>12000.0</td>\n      <td>60 months</td>\n      <td>10.08%</td>\n      <td>255.44</td>\n      <td>B</td>\n      <td>B1</td>\n      <td>...</td>\n      <td>NaN</td>\n      <td>NaN</td>\n      <td>NaN</td>\n      <td>N</td>\n      <td>NaN</td>\n      <td>NaN</td>\n      <td>NaN</td>\n      <td>NaN</td>\n      <td>NaN</td>\n      <td>NaN</td>\n    </tr>\n    <tr>\n      <th>3</th>\n      <td>NaN</td>\n      <td>NaN</td>\n      <td>20000</td>\n      <td>20000</td>\n      <td>20000.0</td>\n      <td>36 months</td>\n      <td>6.46%</td>\n      <td>612.62</td>\n      <td>A</td>\n      <td>A1</td>\n      <td>...</td>\n      <td>NaN</td>\n      <td>NaN</td>\n      <td>NaN</td>\n      <td>N</td>\n      <td>NaN</td>\n      <td>NaN</td>\n      <td>NaN</td>\n      <td>NaN</td>\n      <td>NaN</td>\n      <td>NaN</td>\n    </tr>\n    <tr>\n      <th>4</th>\n      <td>NaN</td>\n      <td>NaN</td>\n      <td>12000</td>\n      <td>12000</td>\n      <td>12000.0</td>\n      <td>36 months</td>\n      <td>7.02%</td>\n      <td>370.64</td>\n      <td>A</td>\n      <td>A2</td>\n      <td>...</td>\n      <td>NaN</td>\n      <td>NaN</td>\n      <td>NaN</td>\n      <td>N</td>\n      <td>NaN</td>\n      <td>NaN</td>\n      <td>NaN</td>\n      <td>NaN</td>\n      <td>NaN</td>\n      <td>NaN</td>\n    </tr>\n  </tbody>\n</table>\n<p>5 rows × 144 columns</p>\n</div>"
     },
     "execution_count": 1,
     "metadata": {},
     "output_type": "execute_result"
    }
   ],
   "source": [
    "import pandas as pd\n",
    "\n",
    "\n",
    "loans_data = 'https://raw.githubusercontent.com/LambdaSchool/data-science-practice-datasets/main/unit_1/LendingClub/LoanStats_2018Q4_sm.csv'\n",
    "loans = pd.read_csv(loans_data)\n",
    "\n",
    "print(loans.shape)\n",
    "loans.head()"
   ]
  },
  {
   "cell_type": "markdown",
   "metadata": {
    "id": "JJkUZ5g4fxPH"
   },
   "source": [
    "For this warm-up assignment, we are going to determine the length of credit history for the individuals in the Loans dataset we just imported.\n",
    "\n",
    "To do this, we are going to need two date values: `issue_d` and `earliest_cr_line`.  "
   ]
  },
  {
   "cell_type": "markdown",
   "metadata": {
    "id": "7wccaSfx9Zo4"
   },
   "source": [
    "- Lets look at the string format of the `issue_d` column"
   ]
  },
  {
   "cell_type": "code",
   "execution_count": 2,
   "metadata": {
    "id": "BVYeLIOm9dQ-"
   },
   "outputs": [
    {
     "data": {
      "text/plain": "0    Dec-2018\n1    Oct-2018\n2    Oct-2018\n3    Nov-2018\n4    Dec-2018\nName: issue_d, dtype: object"
     },
     "execution_count": 2,
     "metadata": {},
     "output_type": "execute_result"
    }
   ],
   "source": [
    "#Print out the values in the column for issue_d\n",
    "loans[\"issue_d\"].head()"
   ]
  },
  {
   "cell_type": "markdown",
   "metadata": {},
   "source": [
    "<details>\n",
    "<summary style=\"display:list-item\">Answer </summary>\n",
    "    \n",
    "    loans['issue_d'].head()\n",
    "    \n",
    "\n",
    "</details>\n"
   ]
  },
  {
   "cell_type": "code",
   "execution_count": 3,
   "metadata": {
    "id": "cBV3Ta_79qe6"
   },
   "outputs": [
    {
     "data": {
      "text/plain": "'Dec-2018'"
     },
     "execution_count": 3,
     "metadata": {},
     "output_type": "execute_result"
    }
   ],
   "source": [
    "#Print the first observation of issue_d using list indexing.\n",
    "loans[\"issue_d\"][0]\n",
    "\n"
   ]
  },
  {
   "cell_type": "markdown",
   "metadata": {},
   "source": [
    "<details>\n",
    "<summary style=\"display:list-item\">Answer </summary>\n",
    "    \n",
    "    loans['issue_d'][0]\n",
    "    \n",
    "\n",
    "</details>\n"
   ]
  },
  {
   "cell_type": "markdown",
   "metadata": {
    "id": "DnjOcU5y9iZh"
   },
   "source": [
    "#### Because this string format %m-%y is a common datetime format, we can just let Pandas detect this format and translate it to the appropriate datetime object."
   ]
  },
  {
   "cell_type": "markdown",
   "metadata": {
    "id": "6hcypFMu9y4s"
   },
   "source": [
    "- Now let's apply the pd.to_datetime function to `issue_d`.  "
   ]
  },
  {
   "cell_type": "code",
   "execution_count": 4,
   "metadata": {
    "id": "fUMjhnyJ94is"
   },
   "outputs": [
    {
     "data": {
      "text/plain": "0       2018-12-01\n1       2018-10-01\n2       2018-10-01\n3       2018-11-01\n4       2018-12-01\n           ...    \n29995   2018-12-01\n29996   2018-10-01\n29997   2018-10-01\n29998   2018-10-01\n29999   2018-12-01\nName: issue_d, Length: 30000, dtype: datetime64[ns]"
     },
     "execution_count": 4,
     "metadata": {},
     "output_type": "execute_result"
    }
   ],
   "source": [
    "#Print issue_d as a datetime value using\n",
    "pd.to_datetime(loans[\"issue_d\"])\n"
   ]
  },
  {
   "cell_type": "markdown",
   "metadata": {},
   "source": [
    "<details>\n",
    "<summary style=\"display:list-item\">Answer </summary>\n",
    "     pd.to_datetime(loans['issue_d'])\n",
    "\n",
    "</details>\n"
   ]
  },
  {
   "cell_type": "markdown",
   "metadata": {
    "id": "aZQiLh4O-CMN"
   },
   "source": [
    "<details>\n",
    "<summary style=\"display:list-item\">What do you notice about how Pandas handles the days of the month? </summary>\n",
    "    Returns the first day of every month. \n",
    "\n",
    "</details>"
   ]
  },
  {
   "cell_type": "markdown",
   "metadata": {
    "id": "aqUONaG8g6uk"
   },
   "source": [
    "- Assign the values of `issue_d` in the datetime format to a new column in `loans` called `issue_date`."
   ]
  },
  {
   "cell_type": "code",
   "execution_count": 5,
   "metadata": {
    "id": "6_PhaWzb-J7X"
   },
   "outputs": [
    {
     "data": {
      "text/plain": "0       2018-12-01\n1       2018-10-01\n2       2018-10-01\n3       2018-11-01\n4       2018-12-01\n           ...    \n29995   2018-12-01\n29996   2018-10-01\n29997   2018-10-01\n29998   2018-10-01\n29999   2018-12-01\nName: issue_date, Length: 30000, dtype: datetime64[ns]"
     },
     "execution_count": 5,
     "metadata": {},
     "output_type": "execute_result"
    }
   ],
   "source": [
    "#Create issue_date column\n",
    "loans[\"issue_date\"] = pd.to_datetime(loans[\"issue_d\"])\n",
    "loans[\"issue_date\"]"
   ]
  },
  {
   "cell_type": "markdown",
   "metadata": {},
   "source": [
    "<details>\n",
    "<summary style=\"display:list-item\">Answer </summary>\n",
    "     loans['issue_date'] = pd.to_datetime(loans['issue_d'])\n",
    "\n",
    "</details>\n"
   ]
  },
  {
   "cell_type": "markdown",
   "metadata": {
    "id": "V3rKmrzY-NsD"
   },
   "source": [
    "We can use the `.dt` accessor to now grab specific parts of the datetime object. Lets grab just the year from the all of the cells in the `issue_date` column"
   ]
  },
  {
   "cell_type": "code",
   "execution_count": 6,
   "metadata": {
    "id": "y4479qzj-Yj5"
   },
   "outputs": [
    {
     "data": {
      "text/plain": "0        2018\n1        2018\n2        2018\n3        2018\n4        2018\n         ... \n29995    2018\n29996    2018\n29997    2018\n29998    2018\n29999    2018\nName: issue_date, Length: 30000, dtype: int64"
     },
     "execution_count": 6,
     "metadata": {},
     "output_type": "execute_result"
    }
   ],
   "source": [
    "#Print only the year values from the issue_date column\n",
    "loans[\"issue_date\"].dt.year"
   ]
  },
  {
   "cell_type": "markdown",
   "metadata": {},
   "source": [
    "<details>\n",
    "<summary style=\"display:list-item\">Answer </summary>\n",
    "     loans['issue_date'].dt.year\n",
    "\n",
    "</details>\n"
   ]
  },
  {
   "cell_type": "code",
   "execution_count": 6,
   "metadata": {},
   "outputs": [],
   "source": []
  },
  {
   "cell_type": "code",
   "execution_count": 7,
   "metadata": {
    "id": "D28keYR3-dJn"
   },
   "outputs": [
    {
     "data": {
      "text/plain": "0        12\n1        10\n2        10\n3        11\n4        12\n         ..\n29995    12\n29996    10\n29997    10\n29998    10\n29999    12\nName: issue_date, Length: 30000, dtype: int64"
     },
     "execution_count": 7,
     "metadata": {},
     "output_type": "execute_result"
    }
   ],
   "source": [
    "#Output only the month values from the issue_date column\n",
    "loans[\"issue_date\"].dt.month\n"
   ]
  },
  {
   "cell_type": "markdown",
   "metadata": {},
   "source": [
    "<details>\n",
    "<summary style=\"display:list-item\">Answer </summary>\n",
    "     loans['issue_date'].dt.month\n",
    "\n",
    "</details>\n"
   ]
  },
  {
   "cell_type": "code",
   "execution_count": 7,
   "metadata": {},
   "outputs": [],
   "source": []
  },
  {
   "cell_type": "markdown",
   "metadata": {
    "id": "g4_O0q0t-hOX"
   },
   "source": [
    "It's just that easy! Now, instead of printing them out, lets add these year and month values as new columns on our dataframe.  \n",
    "- Name the year variable `issue_year` and the month variable `issue_month`. Again, you'll have to scroll all the way over to the right in the table to see the new columns."
   ]
  },
  {
   "cell_type": "code",
   "execution_count": 16,
   "metadata": {
    "id": "VJdlhqH1-mri"
   },
   "outputs": [
    {
     "data": {
      "text/plain": "       id  member_id  loan_amnt  funded_amnt  funded_amnt_inv        term  \\\n0     NaN        NaN       5525         5525           5525.0   36 months   \n1     NaN        NaN      10000        10000          10000.0   36 months   \n2     NaN        NaN      12000        12000          12000.0   60 months   \n3     NaN        NaN      20000        20000          20000.0   36 months   \n4     NaN        NaN      12000        12000          12000.0   36 months   \n...    ..        ...        ...          ...              ...         ...   \n29995 NaN        NaN      20000        20000          20000.0   36 months   \n29996 NaN        NaN      35000        35000          35000.0   60 months   \n29997 NaN        NaN      10000        10000           9975.0   60 months   \n29998 NaN        NaN      16000        16000          16000.0   60 months   \n29999 NaN        NaN       6400         6400           6400.0   36 months   \n\n      int_rate  installment grade sub_grade  ... debt_settlement_flag  \\\n0       10.72%       180.15     B        B2  ...                    N   \n1       10.08%       323.05     B        B1  ...                    N   \n2       10.08%       255.44     B        B1  ...                    N   \n3        6.46%       612.62     A        A1  ...                    N   \n4        7.02%       370.64     A        A2  ...                    N   \n...        ...          ...   ...       ...  ...                  ...   \n29995   10.33%       648.45     B        B1  ...                    N   \n29996    6.11%       678.44     A        A1  ...                    N   \n29997   25.34%       295.51     E        E3  ...                    N   \n29998    7.84%       323.20     A        A4  ...                    N   \n29999   13.56%       217.38     C        C1  ...                    N   \n\n      debt_settlement_flag_date settlement_status  settlement_date  \\\n0                           NaN               NaN              NaN   \n1                           NaN               NaN              NaN   \n2                           NaN               NaN              NaN   \n3                           NaN               NaN              NaN   \n4                           NaN               NaN              NaN   \n...                         ...               ...              ...   \n29995                       NaN               NaN              NaN   \n29996                       NaN               NaN              NaN   \n29997                       NaN               NaN              NaN   \n29998                       NaN               NaN              NaN   \n29999                       NaN               NaN              NaN   \n\n      settlement_amount settlement_percentage settlement_term issue_date  \\\n0                   NaN                   NaN             NaN 2018-12-01   \n1                   NaN                   NaN             NaN 2018-10-01   \n2                   NaN                   NaN             NaN 2018-10-01   \n3                   NaN                   NaN             NaN 2018-11-01   \n4                   NaN                   NaN             NaN 2018-12-01   \n...                 ...                   ...             ...        ...   \n29995               NaN                   NaN             NaN 2018-12-01   \n29996               NaN                   NaN             NaN 2018-10-01   \n29997               NaN                   NaN             NaN 2018-10-01   \n29998               NaN                   NaN             NaN 2018-10-01   \n29999               NaN                   NaN             NaN 2018-12-01   \n\n       issue_year  issue_month  \n0            2018           12  \n1            2018           10  \n2            2018           10  \n3            2018           11  \n4            2018           12  \n...           ...          ...  \n29995        2018           12  \n29996        2018           10  \n29997        2018           10  \n29998        2018           10  \n29999        2018           12  \n\n[30000 rows x 147 columns]",
      "text/html": "<div>\n<style scoped>\n    .dataframe tbody tr th:only-of-type {\n        vertical-align: middle;\n    }\n\n    .dataframe tbody tr th {\n        vertical-align: top;\n    }\n\n    .dataframe thead th {\n        text-align: right;\n    }\n</style>\n<table border=\"1\" class=\"dataframe\">\n  <thead>\n    <tr style=\"text-align: right;\">\n      <th></th>\n      <th>id</th>\n      <th>member_id</th>\n      <th>loan_amnt</th>\n      <th>funded_amnt</th>\n      <th>funded_amnt_inv</th>\n      <th>term</th>\n      <th>int_rate</th>\n      <th>installment</th>\n      <th>grade</th>\n      <th>sub_grade</th>\n      <th>...</th>\n      <th>debt_settlement_flag</th>\n      <th>debt_settlement_flag_date</th>\n      <th>settlement_status</th>\n      <th>settlement_date</th>\n      <th>settlement_amount</th>\n      <th>settlement_percentage</th>\n      <th>settlement_term</th>\n      <th>issue_date</th>\n      <th>issue_year</th>\n      <th>issue_month</th>\n    </tr>\n  </thead>\n  <tbody>\n    <tr>\n      <th>0</th>\n      <td>NaN</td>\n      <td>NaN</td>\n      <td>5525</td>\n      <td>5525</td>\n      <td>5525.0</td>\n      <td>36 months</td>\n      <td>10.72%</td>\n      <td>180.15</td>\n      <td>B</td>\n      <td>B2</td>\n      <td>...</td>\n      <td>N</td>\n      <td>NaN</td>\n      <td>NaN</td>\n      <td>NaN</td>\n      <td>NaN</td>\n      <td>NaN</td>\n      <td>NaN</td>\n      <td>2018-12-01</td>\n      <td>2018</td>\n      <td>12</td>\n    </tr>\n    <tr>\n      <th>1</th>\n      <td>NaN</td>\n      <td>NaN</td>\n      <td>10000</td>\n      <td>10000</td>\n      <td>10000.0</td>\n      <td>36 months</td>\n      <td>10.08%</td>\n      <td>323.05</td>\n      <td>B</td>\n      <td>B1</td>\n      <td>...</td>\n      <td>N</td>\n      <td>NaN</td>\n      <td>NaN</td>\n      <td>NaN</td>\n      <td>NaN</td>\n      <td>NaN</td>\n      <td>NaN</td>\n      <td>2018-10-01</td>\n      <td>2018</td>\n      <td>10</td>\n    </tr>\n    <tr>\n      <th>2</th>\n      <td>NaN</td>\n      <td>NaN</td>\n      <td>12000</td>\n      <td>12000</td>\n      <td>12000.0</td>\n      <td>60 months</td>\n      <td>10.08%</td>\n      <td>255.44</td>\n      <td>B</td>\n      <td>B1</td>\n      <td>...</td>\n      <td>N</td>\n      <td>NaN</td>\n      <td>NaN</td>\n      <td>NaN</td>\n      <td>NaN</td>\n      <td>NaN</td>\n      <td>NaN</td>\n      <td>2018-10-01</td>\n      <td>2018</td>\n      <td>10</td>\n    </tr>\n    <tr>\n      <th>3</th>\n      <td>NaN</td>\n      <td>NaN</td>\n      <td>20000</td>\n      <td>20000</td>\n      <td>20000.0</td>\n      <td>36 months</td>\n      <td>6.46%</td>\n      <td>612.62</td>\n      <td>A</td>\n      <td>A1</td>\n      <td>...</td>\n      <td>N</td>\n      <td>NaN</td>\n      <td>NaN</td>\n      <td>NaN</td>\n      <td>NaN</td>\n      <td>NaN</td>\n      <td>NaN</td>\n      <td>2018-11-01</td>\n      <td>2018</td>\n      <td>11</td>\n    </tr>\n    <tr>\n      <th>4</th>\n      <td>NaN</td>\n      <td>NaN</td>\n      <td>12000</td>\n      <td>12000</td>\n      <td>12000.0</td>\n      <td>36 months</td>\n      <td>7.02%</td>\n      <td>370.64</td>\n      <td>A</td>\n      <td>A2</td>\n      <td>...</td>\n      <td>N</td>\n      <td>NaN</td>\n      <td>NaN</td>\n      <td>NaN</td>\n      <td>NaN</td>\n      <td>NaN</td>\n      <td>NaN</td>\n      <td>2018-12-01</td>\n      <td>2018</td>\n      <td>12</td>\n    </tr>\n    <tr>\n      <th>...</th>\n      <td>...</td>\n      <td>...</td>\n      <td>...</td>\n      <td>...</td>\n      <td>...</td>\n      <td>...</td>\n      <td>...</td>\n      <td>...</td>\n      <td>...</td>\n      <td>...</td>\n      <td>...</td>\n      <td>...</td>\n      <td>...</td>\n      <td>...</td>\n      <td>...</td>\n      <td>...</td>\n      <td>...</td>\n      <td>...</td>\n      <td>...</td>\n      <td>...</td>\n      <td>...</td>\n    </tr>\n    <tr>\n      <th>29995</th>\n      <td>NaN</td>\n      <td>NaN</td>\n      <td>20000</td>\n      <td>20000</td>\n      <td>20000.0</td>\n      <td>36 months</td>\n      <td>10.33%</td>\n      <td>648.45</td>\n      <td>B</td>\n      <td>B1</td>\n      <td>...</td>\n      <td>N</td>\n      <td>NaN</td>\n      <td>NaN</td>\n      <td>NaN</td>\n      <td>NaN</td>\n      <td>NaN</td>\n      <td>NaN</td>\n      <td>2018-12-01</td>\n      <td>2018</td>\n      <td>12</td>\n    </tr>\n    <tr>\n      <th>29996</th>\n      <td>NaN</td>\n      <td>NaN</td>\n      <td>35000</td>\n      <td>35000</td>\n      <td>35000.0</td>\n      <td>60 months</td>\n      <td>6.11%</td>\n      <td>678.44</td>\n      <td>A</td>\n      <td>A1</td>\n      <td>...</td>\n      <td>N</td>\n      <td>NaN</td>\n      <td>NaN</td>\n      <td>NaN</td>\n      <td>NaN</td>\n      <td>NaN</td>\n      <td>NaN</td>\n      <td>2018-10-01</td>\n      <td>2018</td>\n      <td>10</td>\n    </tr>\n    <tr>\n      <th>29997</th>\n      <td>NaN</td>\n      <td>NaN</td>\n      <td>10000</td>\n      <td>10000</td>\n      <td>9975.0</td>\n      <td>60 months</td>\n      <td>25.34%</td>\n      <td>295.51</td>\n      <td>E</td>\n      <td>E3</td>\n      <td>...</td>\n      <td>N</td>\n      <td>NaN</td>\n      <td>NaN</td>\n      <td>NaN</td>\n      <td>NaN</td>\n      <td>NaN</td>\n      <td>NaN</td>\n      <td>2018-10-01</td>\n      <td>2018</td>\n      <td>10</td>\n    </tr>\n    <tr>\n      <th>29998</th>\n      <td>NaN</td>\n      <td>NaN</td>\n      <td>16000</td>\n      <td>16000</td>\n      <td>16000.0</td>\n      <td>60 months</td>\n      <td>7.84%</td>\n      <td>323.20</td>\n      <td>A</td>\n      <td>A4</td>\n      <td>...</td>\n      <td>N</td>\n      <td>NaN</td>\n      <td>NaN</td>\n      <td>NaN</td>\n      <td>NaN</td>\n      <td>NaN</td>\n      <td>NaN</td>\n      <td>2018-10-01</td>\n      <td>2018</td>\n      <td>10</td>\n    </tr>\n    <tr>\n      <th>29999</th>\n      <td>NaN</td>\n      <td>NaN</td>\n      <td>6400</td>\n      <td>6400</td>\n      <td>6400.0</td>\n      <td>36 months</td>\n      <td>13.56%</td>\n      <td>217.38</td>\n      <td>C</td>\n      <td>C1</td>\n      <td>...</td>\n      <td>N</td>\n      <td>NaN</td>\n      <td>NaN</td>\n      <td>NaN</td>\n      <td>NaN</td>\n      <td>NaN</td>\n      <td>NaN</td>\n      <td>2018-12-01</td>\n      <td>2018</td>\n      <td>12</td>\n    </tr>\n  </tbody>\n</table>\n<p>30000 rows × 147 columns</p>\n</div>"
     },
     "execution_count": 16,
     "metadata": {},
     "output_type": "execute_result"
    }
   ],
   "source": [
    "#Create issue_year and issue_month columns\n",
    "loans[\"issue_year\"] = loans[\"issue_date\"].dt.year\n",
    "loans[\"issue_month\"] = loans[\"issue_date\"].dt.month\n",
    "loans"
   ]
  },
  {
   "cell_type": "markdown",
   "metadata": {},
   "source": [
    "<details>\n",
    "<summary style=\"display:list-item\">Answer </summary>\n",
    "    issue_year = loans['issue_date'].dt.year\n",
    "    <br>\n",
    "    issue_month = loans['issue_date'].dt.month\n",
    "\n",
    "</details>\n"
   ]
  },
  {
   "cell_type": "markdown",
   "metadata": {
    "id": "LAxig0nE-1kt"
   },
   "source": [
    "- Now let's look at the `earliest_cr_line` column, which is also a string, but that could be converted to datetime format.\n"
   ]
  },
  {
   "cell_type": "code",
   "execution_count": 9,
   "metadata": {
    "id": "5S6BDZjp-e8-"
   },
   "outputs": [
    {
     "data": {
      "text/plain": "0    Oct-1998\n1    Sep-2015\n2    Jun-2003\n3    Feb-2005\n4    Feb-2008\nName: earliest_cr_line, dtype: object"
     },
     "execution_count": 9,
     "metadata": {},
     "output_type": "execute_result"
    }
   ],
   "source": [
    "#Print the dates for the earliest_cr_line column \n",
    "loans['earliest_cr_line'].head()\n",
    "\n"
   ]
  },
  {
   "cell_type": "markdown",
   "metadata": {},
   "source": [
    "<details>\n",
    "<summary style=\"display:list-item\">Answer </summary>\n",
    "     loans['earliest_cr_line'].head()\n",
    "\n",
    "</details>\n"
   ]
  },
  {
   "cell_type": "code",
   "execution_count": 9,
   "metadata": {},
   "outputs": [],
   "source": []
  },
  {
   "cell_type": "markdown",
   "metadata": {
    "id": "z7HSJ1pYjX4e"
   },
   "source": [
    "- Convert `earliest_cr_line` to a datetime format using pd.to_datetime and assign the result to the column `earliest_credit`."
   ]
  },
  {
   "cell_type": "code",
   "execution_count": 21,
   "metadata": {
    "id": "Lf9nCJdYjL4W"
   },
   "outputs": [
    {
     "data": {
      "text/plain": "       id  member_id  loan_amnt  funded_amnt  funded_amnt_inv        term  \\\n0     NaN        NaN       5525         5525           5525.0   36 months   \n1     NaN        NaN      10000        10000          10000.0   36 months   \n2     NaN        NaN      12000        12000          12000.0   60 months   \n3     NaN        NaN      20000        20000          20000.0   36 months   \n4     NaN        NaN      12000        12000          12000.0   36 months   \n...    ..        ...        ...          ...              ...         ...   \n29995 NaN        NaN      20000        20000          20000.0   36 months   \n29996 NaN        NaN      35000        35000          35000.0   60 months   \n29997 NaN        NaN      10000        10000           9975.0   60 months   \n29998 NaN        NaN      16000        16000          16000.0   60 months   \n29999 NaN        NaN       6400         6400           6400.0   36 months   \n\n      int_rate  installment grade sub_grade  ... debt_settlement_flag_date  \\\n0       10.72%       180.15     B        B2  ...                       NaN   \n1       10.08%       323.05     B        B1  ...                       NaN   \n2       10.08%       255.44     B        B1  ...                       NaN   \n3        6.46%       612.62     A        A1  ...                       NaN   \n4        7.02%       370.64     A        A2  ...                       NaN   \n...        ...          ...   ...       ...  ...                       ...   \n29995   10.33%       648.45     B        B1  ...                       NaN   \n29996    6.11%       678.44     A        A1  ...                       NaN   \n29997   25.34%       295.51     E        E3  ...                       NaN   \n29998    7.84%       323.20     A        A4  ...                       NaN   \n29999   13.56%       217.38     C        C1  ...                       NaN   \n\n      settlement_status settlement_date  settlement_amount  \\\n0                   NaN             NaN                NaN   \n1                   NaN             NaN                NaN   \n2                   NaN             NaN                NaN   \n3                   NaN             NaN                NaN   \n4                   NaN             NaN                NaN   \n...                 ...             ...                ...   \n29995               NaN             NaN                NaN   \n29996               NaN             NaN                NaN   \n29997               NaN             NaN                NaN   \n29998               NaN             NaN                NaN   \n29999               NaN             NaN                NaN   \n\n      settlement_percentage settlement_term issue_date issue_year  \\\n0                       NaN             NaN 2018-12-01       2018   \n1                       NaN             NaN 2018-10-01       2018   \n2                       NaN             NaN 2018-10-01       2018   \n3                       NaN             NaN 2018-11-01       2018   \n4                       NaN             NaN 2018-12-01       2018   \n...                     ...             ...        ...        ...   \n29995                   NaN             NaN 2018-12-01       2018   \n29996                   NaN             NaN 2018-10-01       2018   \n29997                   NaN             NaN 2018-10-01       2018   \n29998                   NaN             NaN 2018-10-01       2018   \n29999                   NaN             NaN 2018-12-01       2018   \n\n       issue_month  earliest_credit  \n0               12       1998-10-01  \n1               10       2015-09-01  \n2               10       2003-06-01  \n3               11       2005-02-01  \n4               12       2008-02-01  \n...            ...              ...  \n29995           12       2000-01-01  \n29996           10       1985-09-01  \n29997           10       2007-12-01  \n29998           10       2008-04-01  \n29999           12       1991-04-01  \n\n[30000 rows x 148 columns]",
      "text/html": "<div>\n<style scoped>\n    .dataframe tbody tr th:only-of-type {\n        vertical-align: middle;\n    }\n\n    .dataframe tbody tr th {\n        vertical-align: top;\n    }\n\n    .dataframe thead th {\n        text-align: right;\n    }\n</style>\n<table border=\"1\" class=\"dataframe\">\n  <thead>\n    <tr style=\"text-align: right;\">\n      <th></th>\n      <th>id</th>\n      <th>member_id</th>\n      <th>loan_amnt</th>\n      <th>funded_amnt</th>\n      <th>funded_amnt_inv</th>\n      <th>term</th>\n      <th>int_rate</th>\n      <th>installment</th>\n      <th>grade</th>\n      <th>sub_grade</th>\n      <th>...</th>\n      <th>debt_settlement_flag_date</th>\n      <th>settlement_status</th>\n      <th>settlement_date</th>\n      <th>settlement_amount</th>\n      <th>settlement_percentage</th>\n      <th>settlement_term</th>\n      <th>issue_date</th>\n      <th>issue_year</th>\n      <th>issue_month</th>\n      <th>earliest_credit</th>\n    </tr>\n  </thead>\n  <tbody>\n    <tr>\n      <th>0</th>\n      <td>NaN</td>\n      <td>NaN</td>\n      <td>5525</td>\n      <td>5525</td>\n      <td>5525.0</td>\n      <td>36 months</td>\n      <td>10.72%</td>\n      <td>180.15</td>\n      <td>B</td>\n      <td>B2</td>\n      <td>...</td>\n      <td>NaN</td>\n      <td>NaN</td>\n      <td>NaN</td>\n      <td>NaN</td>\n      <td>NaN</td>\n      <td>NaN</td>\n      <td>2018-12-01</td>\n      <td>2018</td>\n      <td>12</td>\n      <td>1998-10-01</td>\n    </tr>\n    <tr>\n      <th>1</th>\n      <td>NaN</td>\n      <td>NaN</td>\n      <td>10000</td>\n      <td>10000</td>\n      <td>10000.0</td>\n      <td>36 months</td>\n      <td>10.08%</td>\n      <td>323.05</td>\n      <td>B</td>\n      <td>B1</td>\n      <td>...</td>\n      <td>NaN</td>\n      <td>NaN</td>\n      <td>NaN</td>\n      <td>NaN</td>\n      <td>NaN</td>\n      <td>NaN</td>\n      <td>2018-10-01</td>\n      <td>2018</td>\n      <td>10</td>\n      <td>2015-09-01</td>\n    </tr>\n    <tr>\n      <th>2</th>\n      <td>NaN</td>\n      <td>NaN</td>\n      <td>12000</td>\n      <td>12000</td>\n      <td>12000.0</td>\n      <td>60 months</td>\n      <td>10.08%</td>\n      <td>255.44</td>\n      <td>B</td>\n      <td>B1</td>\n      <td>...</td>\n      <td>NaN</td>\n      <td>NaN</td>\n      <td>NaN</td>\n      <td>NaN</td>\n      <td>NaN</td>\n      <td>NaN</td>\n      <td>2018-10-01</td>\n      <td>2018</td>\n      <td>10</td>\n      <td>2003-06-01</td>\n    </tr>\n    <tr>\n      <th>3</th>\n      <td>NaN</td>\n      <td>NaN</td>\n      <td>20000</td>\n      <td>20000</td>\n      <td>20000.0</td>\n      <td>36 months</td>\n      <td>6.46%</td>\n      <td>612.62</td>\n      <td>A</td>\n      <td>A1</td>\n      <td>...</td>\n      <td>NaN</td>\n      <td>NaN</td>\n      <td>NaN</td>\n      <td>NaN</td>\n      <td>NaN</td>\n      <td>NaN</td>\n      <td>2018-11-01</td>\n      <td>2018</td>\n      <td>11</td>\n      <td>2005-02-01</td>\n    </tr>\n    <tr>\n      <th>4</th>\n      <td>NaN</td>\n      <td>NaN</td>\n      <td>12000</td>\n      <td>12000</td>\n      <td>12000.0</td>\n      <td>36 months</td>\n      <td>7.02%</td>\n      <td>370.64</td>\n      <td>A</td>\n      <td>A2</td>\n      <td>...</td>\n      <td>NaN</td>\n      <td>NaN</td>\n      <td>NaN</td>\n      <td>NaN</td>\n      <td>NaN</td>\n      <td>NaN</td>\n      <td>2018-12-01</td>\n      <td>2018</td>\n      <td>12</td>\n      <td>2008-02-01</td>\n    </tr>\n    <tr>\n      <th>...</th>\n      <td>...</td>\n      <td>...</td>\n      <td>...</td>\n      <td>...</td>\n      <td>...</td>\n      <td>...</td>\n      <td>...</td>\n      <td>...</td>\n      <td>...</td>\n      <td>...</td>\n      <td>...</td>\n      <td>...</td>\n      <td>...</td>\n      <td>...</td>\n      <td>...</td>\n      <td>...</td>\n      <td>...</td>\n      <td>...</td>\n      <td>...</td>\n      <td>...</td>\n      <td>...</td>\n    </tr>\n    <tr>\n      <th>29995</th>\n      <td>NaN</td>\n      <td>NaN</td>\n      <td>20000</td>\n      <td>20000</td>\n      <td>20000.0</td>\n      <td>36 months</td>\n      <td>10.33%</td>\n      <td>648.45</td>\n      <td>B</td>\n      <td>B1</td>\n      <td>...</td>\n      <td>NaN</td>\n      <td>NaN</td>\n      <td>NaN</td>\n      <td>NaN</td>\n      <td>NaN</td>\n      <td>NaN</td>\n      <td>2018-12-01</td>\n      <td>2018</td>\n      <td>12</td>\n      <td>2000-01-01</td>\n    </tr>\n    <tr>\n      <th>29996</th>\n      <td>NaN</td>\n      <td>NaN</td>\n      <td>35000</td>\n      <td>35000</td>\n      <td>35000.0</td>\n      <td>60 months</td>\n      <td>6.11%</td>\n      <td>678.44</td>\n      <td>A</td>\n      <td>A1</td>\n      <td>...</td>\n      <td>NaN</td>\n      <td>NaN</td>\n      <td>NaN</td>\n      <td>NaN</td>\n      <td>NaN</td>\n      <td>NaN</td>\n      <td>2018-10-01</td>\n      <td>2018</td>\n      <td>10</td>\n      <td>1985-09-01</td>\n    </tr>\n    <tr>\n      <th>29997</th>\n      <td>NaN</td>\n      <td>NaN</td>\n      <td>10000</td>\n      <td>10000</td>\n      <td>9975.0</td>\n      <td>60 months</td>\n      <td>25.34%</td>\n      <td>295.51</td>\n      <td>E</td>\n      <td>E3</td>\n      <td>...</td>\n      <td>NaN</td>\n      <td>NaN</td>\n      <td>NaN</td>\n      <td>NaN</td>\n      <td>NaN</td>\n      <td>NaN</td>\n      <td>2018-10-01</td>\n      <td>2018</td>\n      <td>10</td>\n      <td>2007-12-01</td>\n    </tr>\n    <tr>\n      <th>29998</th>\n      <td>NaN</td>\n      <td>NaN</td>\n      <td>16000</td>\n      <td>16000</td>\n      <td>16000.0</td>\n      <td>60 months</td>\n      <td>7.84%</td>\n      <td>323.20</td>\n      <td>A</td>\n      <td>A4</td>\n      <td>...</td>\n      <td>NaN</td>\n      <td>NaN</td>\n      <td>NaN</td>\n      <td>NaN</td>\n      <td>NaN</td>\n      <td>NaN</td>\n      <td>2018-10-01</td>\n      <td>2018</td>\n      <td>10</td>\n      <td>2008-04-01</td>\n    </tr>\n    <tr>\n      <th>29999</th>\n      <td>NaN</td>\n      <td>NaN</td>\n      <td>6400</td>\n      <td>6400</td>\n      <td>6400.0</td>\n      <td>36 months</td>\n      <td>13.56%</td>\n      <td>217.38</td>\n      <td>C</td>\n      <td>C1</td>\n      <td>...</td>\n      <td>NaN</td>\n      <td>NaN</td>\n      <td>NaN</td>\n      <td>NaN</td>\n      <td>NaN</td>\n      <td>NaN</td>\n      <td>2018-12-01</td>\n      <td>2018</td>\n      <td>12</td>\n      <td>1991-04-01</td>\n    </tr>\n  </tbody>\n</table>\n<p>30000 rows × 148 columns</p>\n</div>"
     },
     "execution_count": 21,
     "metadata": {},
     "output_type": "execute_result"
    }
   ],
   "source": [
    "#Create the earliest_credit column.\n",
    "loans[\"earliest_credit\"] = pd.to_datetime(loans[\"earliest_cr_line\"])\n",
    "loans"
   ]
  },
  {
   "cell_type": "markdown",
   "metadata": {},
   "source": [
    "<details>\n",
    "<summary style=\"display:list-item\">Answer </summary>\n",
    "     loans['earliest_credit'] = pd.to_datetime(loans['earliest_credit_line'])\n",
    "\n",
    "</details>\n"
   ]
  },
  {
   "cell_type": "markdown",
   "metadata": {
    "id": "8aQ7jrtfjyEk"
   },
   "source": [
    "- Determine the length of credit history in days by subtracting `earliest_credit` from `issue_date`.  Save the result as a column called `credit_length_days`. \n",
    "\n",
    "*Hint:* You will have to convert your results to intergers using `dt.days` "
   ]
  },
  {
   "cell_type": "code",
   "execution_count": 34,
   "metadata": {
    "id": "tRWE2SXZe8mA"
   },
   "outputs": [
    {
     "data": {
      "text/plain": "       id  member_id  loan_amnt  funded_amnt  funded_amnt_inv        term  \\\n0     NaN        NaN       5525         5525           5525.0   36 months   \n1     NaN        NaN      10000        10000          10000.0   36 months   \n2     NaN        NaN      12000        12000          12000.0   60 months   \n3     NaN        NaN      20000        20000          20000.0   36 months   \n4     NaN        NaN      12000        12000          12000.0   36 months   \n...    ..        ...        ...          ...              ...         ...   \n29995 NaN        NaN      20000        20000          20000.0   36 months   \n29996 NaN        NaN      35000        35000          35000.0   60 months   \n29997 NaN        NaN      10000        10000           9975.0   60 months   \n29998 NaN        NaN      16000        16000          16000.0   60 months   \n29999 NaN        NaN       6400         6400           6400.0   36 months   \n\n      int_rate  installment grade sub_grade  ... settlement_status  \\\n0       10.72%       180.15     B        B2  ...               NaN   \n1       10.08%       323.05     B        B1  ...               NaN   \n2       10.08%       255.44     B        B1  ...               NaN   \n3        6.46%       612.62     A        A1  ...               NaN   \n4        7.02%       370.64     A        A2  ...               NaN   \n...        ...          ...   ...       ...  ...               ...   \n29995   10.33%       648.45     B        B1  ...               NaN   \n29996    6.11%       678.44     A        A1  ...               NaN   \n29997   25.34%       295.51     E        E3  ...               NaN   \n29998    7.84%       323.20     A        A4  ...               NaN   \n29999   13.56%       217.38     C        C1  ...               NaN   \n\n      settlement_date settlement_amount  settlement_percentage  \\\n0                 NaN               NaN                    NaN   \n1                 NaN               NaN                    NaN   \n2                 NaN               NaN                    NaN   \n3                 NaN               NaN                    NaN   \n4                 NaN               NaN                    NaN   \n...               ...               ...                    ...   \n29995             NaN               NaN                    NaN   \n29996             NaN               NaN                    NaN   \n29997             NaN               NaN                    NaN   \n29998             NaN               NaN                    NaN   \n29999             NaN               NaN                    NaN   \n\n      settlement_term issue_date issue_year issue_month  earliest_credit  \\\n0                 NaN 2018-12-01       2018          12       1998-10-01   \n1                 NaN 2018-10-01       2018          10       2015-09-01   \n2                 NaN 2018-10-01       2018          10       2003-06-01   \n3                 NaN 2018-11-01       2018          11       2005-02-01   \n4                 NaN 2018-12-01       2018          12       2008-02-01   \n...               ...        ...        ...         ...              ...   \n29995             NaN 2018-12-01       2018          12       2000-01-01   \n29996             NaN 2018-10-01       2018          10       1985-09-01   \n29997             NaN 2018-10-01       2018          10       2007-12-01   \n29998             NaN 2018-10-01       2018          10       2008-04-01   \n29999             NaN 2018-12-01       2018          12       1991-04-01   \n\n       credit_length_days  \n0                    7366  \n1                    1126  \n2                    5601  \n3                    5021  \n4                    3956  \n...                   ...  \n29995                6909  \n29996               12083  \n29997                3957  \n29998                3835  \n29999               10106  \n\n[30000 rows x 149 columns]",
      "text/html": "<div>\n<style scoped>\n    .dataframe tbody tr th:only-of-type {\n        vertical-align: middle;\n    }\n\n    .dataframe tbody tr th {\n        vertical-align: top;\n    }\n\n    .dataframe thead th {\n        text-align: right;\n    }\n</style>\n<table border=\"1\" class=\"dataframe\">\n  <thead>\n    <tr style=\"text-align: right;\">\n      <th></th>\n      <th>id</th>\n      <th>member_id</th>\n      <th>loan_amnt</th>\n      <th>funded_amnt</th>\n      <th>funded_amnt_inv</th>\n      <th>term</th>\n      <th>int_rate</th>\n      <th>installment</th>\n      <th>grade</th>\n      <th>sub_grade</th>\n      <th>...</th>\n      <th>settlement_status</th>\n      <th>settlement_date</th>\n      <th>settlement_amount</th>\n      <th>settlement_percentage</th>\n      <th>settlement_term</th>\n      <th>issue_date</th>\n      <th>issue_year</th>\n      <th>issue_month</th>\n      <th>earliest_credit</th>\n      <th>credit_length_days</th>\n    </tr>\n  </thead>\n  <tbody>\n    <tr>\n      <th>0</th>\n      <td>NaN</td>\n      <td>NaN</td>\n      <td>5525</td>\n      <td>5525</td>\n      <td>5525.0</td>\n      <td>36 months</td>\n      <td>10.72%</td>\n      <td>180.15</td>\n      <td>B</td>\n      <td>B2</td>\n      <td>...</td>\n      <td>NaN</td>\n      <td>NaN</td>\n      <td>NaN</td>\n      <td>NaN</td>\n      <td>NaN</td>\n      <td>2018-12-01</td>\n      <td>2018</td>\n      <td>12</td>\n      <td>1998-10-01</td>\n      <td>7366</td>\n    </tr>\n    <tr>\n      <th>1</th>\n      <td>NaN</td>\n      <td>NaN</td>\n      <td>10000</td>\n      <td>10000</td>\n      <td>10000.0</td>\n      <td>36 months</td>\n      <td>10.08%</td>\n      <td>323.05</td>\n      <td>B</td>\n      <td>B1</td>\n      <td>...</td>\n      <td>NaN</td>\n      <td>NaN</td>\n      <td>NaN</td>\n      <td>NaN</td>\n      <td>NaN</td>\n      <td>2018-10-01</td>\n      <td>2018</td>\n      <td>10</td>\n      <td>2015-09-01</td>\n      <td>1126</td>\n    </tr>\n    <tr>\n      <th>2</th>\n      <td>NaN</td>\n      <td>NaN</td>\n      <td>12000</td>\n      <td>12000</td>\n      <td>12000.0</td>\n      <td>60 months</td>\n      <td>10.08%</td>\n      <td>255.44</td>\n      <td>B</td>\n      <td>B1</td>\n      <td>...</td>\n      <td>NaN</td>\n      <td>NaN</td>\n      <td>NaN</td>\n      <td>NaN</td>\n      <td>NaN</td>\n      <td>2018-10-01</td>\n      <td>2018</td>\n      <td>10</td>\n      <td>2003-06-01</td>\n      <td>5601</td>\n    </tr>\n    <tr>\n      <th>3</th>\n      <td>NaN</td>\n      <td>NaN</td>\n      <td>20000</td>\n      <td>20000</td>\n      <td>20000.0</td>\n      <td>36 months</td>\n      <td>6.46%</td>\n      <td>612.62</td>\n      <td>A</td>\n      <td>A1</td>\n      <td>...</td>\n      <td>NaN</td>\n      <td>NaN</td>\n      <td>NaN</td>\n      <td>NaN</td>\n      <td>NaN</td>\n      <td>2018-11-01</td>\n      <td>2018</td>\n      <td>11</td>\n      <td>2005-02-01</td>\n      <td>5021</td>\n    </tr>\n    <tr>\n      <th>4</th>\n      <td>NaN</td>\n      <td>NaN</td>\n      <td>12000</td>\n      <td>12000</td>\n      <td>12000.0</td>\n      <td>36 months</td>\n      <td>7.02%</td>\n      <td>370.64</td>\n      <td>A</td>\n      <td>A2</td>\n      <td>...</td>\n      <td>NaN</td>\n      <td>NaN</td>\n      <td>NaN</td>\n      <td>NaN</td>\n      <td>NaN</td>\n      <td>2018-12-01</td>\n      <td>2018</td>\n      <td>12</td>\n      <td>2008-02-01</td>\n      <td>3956</td>\n    </tr>\n    <tr>\n      <th>...</th>\n      <td>...</td>\n      <td>...</td>\n      <td>...</td>\n      <td>...</td>\n      <td>...</td>\n      <td>...</td>\n      <td>...</td>\n      <td>...</td>\n      <td>...</td>\n      <td>...</td>\n      <td>...</td>\n      <td>...</td>\n      <td>...</td>\n      <td>...</td>\n      <td>...</td>\n      <td>...</td>\n      <td>...</td>\n      <td>...</td>\n      <td>...</td>\n      <td>...</td>\n      <td>...</td>\n    </tr>\n    <tr>\n      <th>29995</th>\n      <td>NaN</td>\n      <td>NaN</td>\n      <td>20000</td>\n      <td>20000</td>\n      <td>20000.0</td>\n      <td>36 months</td>\n      <td>10.33%</td>\n      <td>648.45</td>\n      <td>B</td>\n      <td>B1</td>\n      <td>...</td>\n      <td>NaN</td>\n      <td>NaN</td>\n      <td>NaN</td>\n      <td>NaN</td>\n      <td>NaN</td>\n      <td>2018-12-01</td>\n      <td>2018</td>\n      <td>12</td>\n      <td>2000-01-01</td>\n      <td>6909</td>\n    </tr>\n    <tr>\n      <th>29996</th>\n      <td>NaN</td>\n      <td>NaN</td>\n      <td>35000</td>\n      <td>35000</td>\n      <td>35000.0</td>\n      <td>60 months</td>\n      <td>6.11%</td>\n      <td>678.44</td>\n      <td>A</td>\n      <td>A1</td>\n      <td>...</td>\n      <td>NaN</td>\n      <td>NaN</td>\n      <td>NaN</td>\n      <td>NaN</td>\n      <td>NaN</td>\n      <td>2018-10-01</td>\n      <td>2018</td>\n      <td>10</td>\n      <td>1985-09-01</td>\n      <td>12083</td>\n    </tr>\n    <tr>\n      <th>29997</th>\n      <td>NaN</td>\n      <td>NaN</td>\n      <td>10000</td>\n      <td>10000</td>\n      <td>9975.0</td>\n      <td>60 months</td>\n      <td>25.34%</td>\n      <td>295.51</td>\n      <td>E</td>\n      <td>E3</td>\n      <td>...</td>\n      <td>NaN</td>\n      <td>NaN</td>\n      <td>NaN</td>\n      <td>NaN</td>\n      <td>NaN</td>\n      <td>2018-10-01</td>\n      <td>2018</td>\n      <td>10</td>\n      <td>2007-12-01</td>\n      <td>3957</td>\n    </tr>\n    <tr>\n      <th>29998</th>\n      <td>NaN</td>\n      <td>NaN</td>\n      <td>16000</td>\n      <td>16000</td>\n      <td>16000.0</td>\n      <td>60 months</td>\n      <td>7.84%</td>\n      <td>323.20</td>\n      <td>A</td>\n      <td>A4</td>\n      <td>...</td>\n      <td>NaN</td>\n      <td>NaN</td>\n      <td>NaN</td>\n      <td>NaN</td>\n      <td>NaN</td>\n      <td>2018-10-01</td>\n      <td>2018</td>\n      <td>10</td>\n      <td>2008-04-01</td>\n      <td>3835</td>\n    </tr>\n    <tr>\n      <th>29999</th>\n      <td>NaN</td>\n      <td>NaN</td>\n      <td>6400</td>\n      <td>6400</td>\n      <td>6400.0</td>\n      <td>36 months</td>\n      <td>13.56%</td>\n      <td>217.38</td>\n      <td>C</td>\n      <td>C1</td>\n      <td>...</td>\n      <td>NaN</td>\n      <td>NaN</td>\n      <td>NaN</td>\n      <td>NaN</td>\n      <td>NaN</td>\n      <td>2018-12-01</td>\n      <td>2018</td>\n      <td>12</td>\n      <td>1991-04-01</td>\n      <td>10106</td>\n    </tr>\n  </tbody>\n</table>\n<p>30000 rows × 149 columns</p>\n</div>"
     },
     "execution_count": 34,
     "metadata": {},
     "output_type": "execute_result"
    }
   ],
   "source": [
    "#Calculate the length of credit history in days. \n",
    "loans[\"credit_length_days\"] = (loans[\"issue_date\"] - loans[\"earliest_credit\"]).dt.days\n",
    "loans"
   ]
  },
  {
   "cell_type": "markdown",
   "metadata": {},
   "source": [
    "<details>\n",
    "<summary style=\"display:list-item\">Answer </summary>\n",
    "    loans['credit_length_days'] = (loans['issue_date'] - loans['earliest_credit']).dt.days\n",
    "\n",
    "\n",
    "</details>\n"
   ]
  },
  {
   "cell_type": "code",
   "execution_count": null,
   "metadata": {},
   "outputs": [],
   "source": []
  },
  {
   "cell_type": "markdown",
   "metadata": {
    "id": "LKjAq0qCl9pM"
   },
   "source": [
    "- Divide the credit length in days by 365.25 (don't forget leap year!) and save the result as a column called `credit_length_years`."
   ]
  },
  {
   "cell_type": "code",
   "execution_count": 36,
   "outputs": [
    {
     "data": {
      "text/plain": "       id  member_id  loan_amnt  funded_amnt  funded_amnt_inv        term  \\\n0     NaN        NaN       5525         5525           5525.0   36 months   \n1     NaN        NaN      10000        10000          10000.0   36 months   \n2     NaN        NaN      12000        12000          12000.0   60 months   \n3     NaN        NaN      20000        20000          20000.0   36 months   \n4     NaN        NaN      12000        12000          12000.0   36 months   \n...    ..        ...        ...          ...              ...         ...   \n29995 NaN        NaN      20000        20000          20000.0   36 months   \n29996 NaN        NaN      35000        35000          35000.0   60 months   \n29997 NaN        NaN      10000        10000           9975.0   60 months   \n29998 NaN        NaN      16000        16000          16000.0   60 months   \n29999 NaN        NaN       6400         6400           6400.0   36 months   \n\n      int_rate  installment grade sub_grade  ... settlement_date  \\\n0       10.72%       180.15     B        B2  ...             NaN   \n1       10.08%       323.05     B        B1  ...             NaN   \n2       10.08%       255.44     B        B1  ...             NaN   \n3        6.46%       612.62     A        A1  ...             NaN   \n4        7.02%       370.64     A        A2  ...             NaN   \n...        ...          ...   ...       ...  ...             ...   \n29995   10.33%       648.45     B        B1  ...             NaN   \n29996    6.11%       678.44     A        A1  ...             NaN   \n29997   25.34%       295.51     E        E3  ...             NaN   \n29998    7.84%       323.20     A        A4  ...             NaN   \n29999   13.56%       217.38     C        C1  ...             NaN   \n\n      settlement_amount settlement_percentage  settlement_term issue_date  \\\n0                   NaN                   NaN              NaN 2018-12-01   \n1                   NaN                   NaN              NaN 2018-10-01   \n2                   NaN                   NaN              NaN 2018-10-01   \n3                   NaN                   NaN              NaN 2018-11-01   \n4                   NaN                   NaN              NaN 2018-12-01   \n...                 ...                   ...              ...        ...   \n29995               NaN                   NaN              NaN 2018-12-01   \n29996               NaN                   NaN              NaN 2018-10-01   \n29997               NaN                   NaN              NaN 2018-10-01   \n29998               NaN                   NaN              NaN 2018-10-01   \n29999               NaN                   NaN              NaN 2018-12-01   \n\n      issue_year issue_month earliest_credit  credit_length_days  \\\n0           2018          12      1998-10-01                7366   \n1           2018          10      2015-09-01                1126   \n2           2018          10      2003-06-01                5601   \n3           2018          11      2005-02-01                5021   \n4           2018          12      2008-02-01                3956   \n...          ...         ...             ...                 ...   \n29995       2018          12      2000-01-01                6909   \n29996       2018          10      1985-09-01               12083   \n29997       2018          10      2007-12-01                3957   \n29998       2018          10      2008-04-01                3835   \n29999       2018          12      1991-04-01               10106   \n\n       credit_length_years  \n0                20.167009  \n1                 3.082820  \n2                15.334702  \n3                13.746749  \n4                10.830938  \n...                    ...  \n29995            18.915811  \n29996            33.081451  \n29997            10.833676  \n29998            10.499658  \n29999            27.668720  \n\n[30000 rows x 150 columns]",
      "text/html": "<div>\n<style scoped>\n    .dataframe tbody tr th:only-of-type {\n        vertical-align: middle;\n    }\n\n    .dataframe tbody tr th {\n        vertical-align: top;\n    }\n\n    .dataframe thead th {\n        text-align: right;\n    }\n</style>\n<table border=\"1\" class=\"dataframe\">\n  <thead>\n    <tr style=\"text-align: right;\">\n      <th></th>\n      <th>id</th>\n      <th>member_id</th>\n      <th>loan_amnt</th>\n      <th>funded_amnt</th>\n      <th>funded_amnt_inv</th>\n      <th>term</th>\n      <th>int_rate</th>\n      <th>installment</th>\n      <th>grade</th>\n      <th>sub_grade</th>\n      <th>...</th>\n      <th>settlement_date</th>\n      <th>settlement_amount</th>\n      <th>settlement_percentage</th>\n      <th>settlement_term</th>\n      <th>issue_date</th>\n      <th>issue_year</th>\n      <th>issue_month</th>\n      <th>earliest_credit</th>\n      <th>credit_length_days</th>\n      <th>credit_length_years</th>\n    </tr>\n  </thead>\n  <tbody>\n    <tr>\n      <th>0</th>\n      <td>NaN</td>\n      <td>NaN</td>\n      <td>5525</td>\n      <td>5525</td>\n      <td>5525.0</td>\n      <td>36 months</td>\n      <td>10.72%</td>\n      <td>180.15</td>\n      <td>B</td>\n      <td>B2</td>\n      <td>...</td>\n      <td>NaN</td>\n      <td>NaN</td>\n      <td>NaN</td>\n      <td>NaN</td>\n      <td>2018-12-01</td>\n      <td>2018</td>\n      <td>12</td>\n      <td>1998-10-01</td>\n      <td>7366</td>\n      <td>20.167009</td>\n    </tr>\n    <tr>\n      <th>1</th>\n      <td>NaN</td>\n      <td>NaN</td>\n      <td>10000</td>\n      <td>10000</td>\n      <td>10000.0</td>\n      <td>36 months</td>\n      <td>10.08%</td>\n      <td>323.05</td>\n      <td>B</td>\n      <td>B1</td>\n      <td>...</td>\n      <td>NaN</td>\n      <td>NaN</td>\n      <td>NaN</td>\n      <td>NaN</td>\n      <td>2018-10-01</td>\n      <td>2018</td>\n      <td>10</td>\n      <td>2015-09-01</td>\n      <td>1126</td>\n      <td>3.082820</td>\n    </tr>\n    <tr>\n      <th>2</th>\n      <td>NaN</td>\n      <td>NaN</td>\n      <td>12000</td>\n      <td>12000</td>\n      <td>12000.0</td>\n      <td>60 months</td>\n      <td>10.08%</td>\n      <td>255.44</td>\n      <td>B</td>\n      <td>B1</td>\n      <td>...</td>\n      <td>NaN</td>\n      <td>NaN</td>\n      <td>NaN</td>\n      <td>NaN</td>\n      <td>2018-10-01</td>\n      <td>2018</td>\n      <td>10</td>\n      <td>2003-06-01</td>\n      <td>5601</td>\n      <td>15.334702</td>\n    </tr>\n    <tr>\n      <th>3</th>\n      <td>NaN</td>\n      <td>NaN</td>\n      <td>20000</td>\n      <td>20000</td>\n      <td>20000.0</td>\n      <td>36 months</td>\n      <td>6.46%</td>\n      <td>612.62</td>\n      <td>A</td>\n      <td>A1</td>\n      <td>...</td>\n      <td>NaN</td>\n      <td>NaN</td>\n      <td>NaN</td>\n      <td>NaN</td>\n      <td>2018-11-01</td>\n      <td>2018</td>\n      <td>11</td>\n      <td>2005-02-01</td>\n      <td>5021</td>\n      <td>13.746749</td>\n    </tr>\n    <tr>\n      <th>4</th>\n      <td>NaN</td>\n      <td>NaN</td>\n      <td>12000</td>\n      <td>12000</td>\n      <td>12000.0</td>\n      <td>36 months</td>\n      <td>7.02%</td>\n      <td>370.64</td>\n      <td>A</td>\n      <td>A2</td>\n      <td>...</td>\n      <td>NaN</td>\n      <td>NaN</td>\n      <td>NaN</td>\n      <td>NaN</td>\n      <td>2018-12-01</td>\n      <td>2018</td>\n      <td>12</td>\n      <td>2008-02-01</td>\n      <td>3956</td>\n      <td>10.830938</td>\n    </tr>\n    <tr>\n      <th>...</th>\n      <td>...</td>\n      <td>...</td>\n      <td>...</td>\n      <td>...</td>\n      <td>...</td>\n      <td>...</td>\n      <td>...</td>\n      <td>...</td>\n      <td>...</td>\n      <td>...</td>\n      <td>...</td>\n      <td>...</td>\n      <td>...</td>\n      <td>...</td>\n      <td>...</td>\n      <td>...</td>\n      <td>...</td>\n      <td>...</td>\n      <td>...</td>\n      <td>...</td>\n      <td>...</td>\n    </tr>\n    <tr>\n      <th>29995</th>\n      <td>NaN</td>\n      <td>NaN</td>\n      <td>20000</td>\n      <td>20000</td>\n      <td>20000.0</td>\n      <td>36 months</td>\n      <td>10.33%</td>\n      <td>648.45</td>\n      <td>B</td>\n      <td>B1</td>\n      <td>...</td>\n      <td>NaN</td>\n      <td>NaN</td>\n      <td>NaN</td>\n      <td>NaN</td>\n      <td>2018-12-01</td>\n      <td>2018</td>\n      <td>12</td>\n      <td>2000-01-01</td>\n      <td>6909</td>\n      <td>18.915811</td>\n    </tr>\n    <tr>\n      <th>29996</th>\n      <td>NaN</td>\n      <td>NaN</td>\n      <td>35000</td>\n      <td>35000</td>\n      <td>35000.0</td>\n      <td>60 months</td>\n      <td>6.11%</td>\n      <td>678.44</td>\n      <td>A</td>\n      <td>A1</td>\n      <td>...</td>\n      <td>NaN</td>\n      <td>NaN</td>\n      <td>NaN</td>\n      <td>NaN</td>\n      <td>2018-10-01</td>\n      <td>2018</td>\n      <td>10</td>\n      <td>1985-09-01</td>\n      <td>12083</td>\n      <td>33.081451</td>\n    </tr>\n    <tr>\n      <th>29997</th>\n      <td>NaN</td>\n      <td>NaN</td>\n      <td>10000</td>\n      <td>10000</td>\n      <td>9975.0</td>\n      <td>60 months</td>\n      <td>25.34%</td>\n      <td>295.51</td>\n      <td>E</td>\n      <td>E3</td>\n      <td>...</td>\n      <td>NaN</td>\n      <td>NaN</td>\n      <td>NaN</td>\n      <td>NaN</td>\n      <td>2018-10-01</td>\n      <td>2018</td>\n      <td>10</td>\n      <td>2007-12-01</td>\n      <td>3957</td>\n      <td>10.833676</td>\n    </tr>\n    <tr>\n      <th>29998</th>\n      <td>NaN</td>\n      <td>NaN</td>\n      <td>16000</td>\n      <td>16000</td>\n      <td>16000.0</td>\n      <td>60 months</td>\n      <td>7.84%</td>\n      <td>323.20</td>\n      <td>A</td>\n      <td>A4</td>\n      <td>...</td>\n      <td>NaN</td>\n      <td>NaN</td>\n      <td>NaN</td>\n      <td>NaN</td>\n      <td>2018-10-01</td>\n      <td>2018</td>\n      <td>10</td>\n      <td>2008-04-01</td>\n      <td>3835</td>\n      <td>10.499658</td>\n    </tr>\n    <tr>\n      <th>29999</th>\n      <td>NaN</td>\n      <td>NaN</td>\n      <td>6400</td>\n      <td>6400</td>\n      <td>6400.0</td>\n      <td>36 months</td>\n      <td>13.56%</td>\n      <td>217.38</td>\n      <td>C</td>\n      <td>C1</td>\n      <td>...</td>\n      <td>NaN</td>\n      <td>NaN</td>\n      <td>NaN</td>\n      <td>NaN</td>\n      <td>2018-12-01</td>\n      <td>2018</td>\n      <td>12</td>\n      <td>1991-04-01</td>\n      <td>10106</td>\n      <td>27.668720</td>\n    </tr>\n  </tbody>\n</table>\n<p>30000 rows × 150 columns</p>\n</div>"
     },
     "execution_count": 36,
     "metadata": {},
     "output_type": "execute_result"
    }
   ],
   "source": [
    "loans[\"credit_length_years\"] = (loans[\"credit_length_days\"] / 365.25)\n",
    "loans"
   ],
   "metadata": {
    "collapsed": false
   }
  },
  {
   "cell_type": "markdown",
   "metadata": {
    "id": "FWu1a57V_cHx"
   },
   "source": [
    "<details>\n",
    "<summary style=\"display:list-item\">Answer </summary>\n",
    "     loans['credit_length_years'] = loans['credit_length_days']/365.25\n",
    "\n",
    "</details>\n"
   ]
  },
  {
   "cell_type": "markdown",
   "metadata": {
    "id": "ml-N769C_e_n"
   },
   "source": [
    "Use the .max() function to determine the longest credit history in years."
   ]
  },
  {
   "cell_type": "code",
   "execution_count": 37,
   "metadata": {},
   "outputs": [
    {
     "data": {
      "text/plain": "68.91444216290212"
     },
     "execution_count": 37,
     "metadata": {},
     "output_type": "execute_result"
    }
   ],
   "source": [
    "loans[\"credit_length_years\"].max()"
   ]
  },
  {
   "cell_type": "markdown",
   "metadata": {
    "id": "FWu1a57V_cHx"
   },
   "source": [
    "<details>\n",
    "<summary style=\"display:list-item\">Answer </summary>\n",
    "     loans['credit_length_years'].max()\n",
    "\n",
    "</details>\n"
   ]
  },
  {
   "cell_type": "code",
   "execution_count": null,
   "metadata": {},
   "outputs": [],
   "source": []
  }
 ],
 "metadata": {
  "colab": {
   "authorship_tag": "ABX9TyMvLAQ9NiB8Fxukaap63jco",
   "collapsed_sections": [],
   "name": "Date-time warmup.ipynb",
   "provenance": []
  },
  "kernelspec": {
   "display_name": "Python 3",
   "language": "python",
   "name": "python3"
  },
  "language_info": {
   "codemirror_mode": {
    "name": "ipython",
    "version": 3
   },
   "file_extension": ".py",
   "mimetype": "text/x-python",
   "name": "python",
   "nbconvert_exporter": "python",
   "pygments_lexer": "ipython3",
   "version": "3.8.8"
  }
 },
 "nbformat": 4,
 "nbformat_minor": 1
}
