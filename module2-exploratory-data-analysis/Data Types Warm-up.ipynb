{
 "cells": [
  {
   "cell_type": "markdown",
   "metadata": {
    "id": "mUdn5YhXqe3m"
   },
   "source": [
    "## Overview\n",
    "\n",
    "One of the cornerstones of Exploratory Data Analysis (EDA) is being able to identify variable types such as categorical, quantitative, continuous, discrete, ordinal, nominal and identifier.  We will use different statistical methods to display and describe each of these different types of data."
   ]
  },
  {
   "cell_type": "markdown",
   "metadata": {
    "id": "CE1OpSBpljcU"
   },
   "source": [
    "## Read the Following\n",
    "\n",
    "First, data can most easily be classified as categorical or quantitative.\n",
    "\n",
    "- Categorical data places each observation into one and only one category: hair color, eye color, favorite flavor of ice cream, letter grade in a class, zip code\n",
    "\n",
    "- Quantitative data measures something: height, weight, income, number of children"
   ]
  },
  {
   "cell_type": "markdown",
   "metadata": {
    "id": "pLIcXUwgGZ4m"
   },
   "source": [
    "Categorical data can further be classified as ordinal, nominal or an identifier variable.\n",
    "- Nominal data has no natural ordering: hair color, eye color\n",
    "- Ordinal data has a natural ordering: letter grades - A, B, C, D, F\n",
    "- Identifier variables identify each record uniquely and are not analyzed\n",
    "\n",
    "Quantitative data can further be classified as discrete or continuous.\n",
    "- Discrete data can be counted in a finite amount of time: Number of individuals riding on a bus\n",
    "- Continuous data can be measured more precisely: My age is 38.334283948577 years old."
   ]
  },
  {
   "cell_type": "markdown",
   "metadata": {
    "id": "-cPyM8eLlIQB"
   },
   "source": [
    "#### Let's import the Titanic.csv dataset and identify the different variable types:"
   ]
  },
  {
   "cell_type": "markdown",
   "metadata": {
    "id": "PYgryGq0Ye3X"
   },
   "source": [
    "Run the code block below to import and print the top 5 observations from the Titanic dataset.  We'll cover exactly how this works in today's Guided Project.\n",
    "\n",
    "Then take a look at the Titanic Data Dictionary linked below."
   ]
  },
  {
   "cell_type": "code",
   "execution_count": 2,
   "metadata": {
    "colab": {
     "base_uri": "https://localhost:8080/",
     "height": 215
    },
    "executionInfo": {
     "elapsed": 830,
     "status": "ok",
     "timestamp": 1617111990713,
     "user": {
      "displayName": "Chelsea Myers",
      "photoUrl": "",
      "userId": "05871651112741478957"
     },
     "user_tz": 240
    },
    "id": "vGXfTAyJlU4J",
    "outputId": "84055e96-cd7c-4eeb-f9f0-b76da050daf2"
   },
   "outputs": [
    {
     "name": "stdout",
     "output_type": "stream",
     "text": [
      "(887, 8)\n"
     ]
    },
    {
     "data": {
      "text/plain": "   Survived  Pclass                                               Name  \\\n0         0       3                             Mr. Owen Harris Braund   \n1         1       1  Mrs. John Bradley (Florence Briggs Thayer) Cum...   \n2         1       3                              Miss. Laina Heikkinen   \n3         1       1        Mrs. Jacques Heath (Lily May Peel) Futrelle   \n4         0       3                            Mr. William Henry Allen   \n\n      Sex   Age  Siblings/Spouses_Aboard  Parents/Children_Aboard     Fare  \n0    male  22.0                        1                        0   7.2500  \n1  female  38.0                        1                        0  71.2833  \n2  female  26.0                        0                        0   7.9250  \n3  female  35.0                        1                        0  53.1000  \n4    male  35.0                        0                        0   8.0500  ",
      "text/html": "<div>\n<style scoped>\n    .dataframe tbody tr th:only-of-type {\n        vertical-align: middle;\n    }\n\n    .dataframe tbody tr th {\n        vertical-align: top;\n    }\n\n    .dataframe thead th {\n        text-align: right;\n    }\n</style>\n<table border=\"1\" class=\"dataframe\">\n  <thead>\n    <tr style=\"text-align: right;\">\n      <th></th>\n      <th>Survived</th>\n      <th>Pclass</th>\n      <th>Name</th>\n      <th>Sex</th>\n      <th>Age</th>\n      <th>Siblings/Spouses_Aboard</th>\n      <th>Parents/Children_Aboard</th>\n      <th>Fare</th>\n    </tr>\n  </thead>\n  <tbody>\n    <tr>\n      <th>0</th>\n      <td>0</td>\n      <td>3</td>\n      <td>Mr. Owen Harris Braund</td>\n      <td>male</td>\n      <td>22.0</td>\n      <td>1</td>\n      <td>0</td>\n      <td>7.2500</td>\n    </tr>\n    <tr>\n      <th>1</th>\n      <td>1</td>\n      <td>1</td>\n      <td>Mrs. John Bradley (Florence Briggs Thayer) Cum...</td>\n      <td>female</td>\n      <td>38.0</td>\n      <td>1</td>\n      <td>0</td>\n      <td>71.2833</td>\n    </tr>\n    <tr>\n      <th>2</th>\n      <td>1</td>\n      <td>3</td>\n      <td>Miss. Laina Heikkinen</td>\n      <td>female</td>\n      <td>26.0</td>\n      <td>0</td>\n      <td>0</td>\n      <td>7.9250</td>\n    </tr>\n    <tr>\n      <th>3</th>\n      <td>1</td>\n      <td>1</td>\n      <td>Mrs. Jacques Heath (Lily May Peel) Futrelle</td>\n      <td>female</td>\n      <td>35.0</td>\n      <td>1</td>\n      <td>0</td>\n      <td>53.1000</td>\n    </tr>\n    <tr>\n      <th>4</th>\n      <td>0</td>\n      <td>3</td>\n      <td>Mr. William Henry Allen</td>\n      <td>male</td>\n      <td>35.0</td>\n      <td>0</td>\n      <td>0</td>\n      <td>8.0500</td>\n    </tr>\n  </tbody>\n</table>\n</div>"
     },
     "execution_count": 2,
     "metadata": {},
     "output_type": "execute_result"
    }
   ],
   "source": [
    "import pandas as pd\n",
    "\n",
    "data_url = 'https://raw.githubusercontent.com/LambdaSchool/data-science-practice-datasets/main/unit_1/Titanic/Titanic.csv'\n",
    "\n",
    "df = pd.read_csv(data_url, skipinitialspace=True, header=0)\n",
    "\n",
    "print(df.shape)\n",
    "df.head()"
   ]
  },
  {
   "cell_type": "markdown",
   "metadata": {
    "id": "Au0x261CIlWc"
   },
   "source": [
    "[Titanic Data Dictionary](https://github.com/BloomInstituteOfTechnology/data-science-practice-datasets/tree/main/unit_1/Titanic)\n"
   ]
  },
  {
   "cell_type": "markdown",
   "metadata": {
    "id": "mNpAAsxkY5PY"
   },
   "source": [
    "### Use the resources above to answer the following questions about the Titanic dataset:"
   ]
  },
  {
   "cell_type": "markdown",
   "metadata": {
    "id": "SMdasMbEJq8r"
   },
   "source": [
    "1. Which variable is the identifier variable?\n",
    "Name"
   ]
  },
  {
   "cell_type": "markdown",
   "metadata": {
    "id": "g_uCjN2fZLvn"
   },
   "source": [
    "Answer: The name would be an identifier"
   ]
  },
  {
   "cell_type": "markdown",
   "metadata": {
    "id": "B3bA1ntVZHmj"
   },
   "source": [
    "\n",
    "2. Which variables are categorical?  Are they ordinal or nominal?\n",
    "Name, Sex"
   ]
  },
  {
   "cell_type": "markdown",
   "metadata": {
    "id": "OxB_tfWJZOhr"
   },
   "source": [
    "Answer: Name, Sex"
   ]
  },
  {
   "cell_type": "markdown",
   "metadata": {
    "id": "P5J6Ck6xZIL7"
   },
   "source": [
    "\n",
    "3. Which variables are quantitative?  Are the values continuous or discrete?\n",
    "Age is continuous\n",
    "\n",
    "Siblings/Spouses\n",
    "Parents/Children\n",
    "These are discrete"
   ]
  },
  {
   "cell_type": "markdown",
   "metadata": {
    "id": "vOJHdoCUZPI2"
   },
   "source": [
    "Answer:\n",
    "Age\n",
    "Continuous\n",
    "\n",
    "Parents/Children\n",
    "Discrete"
   ]
  }
 ],
 "metadata": {
  "colab": {
   "authorship_tag": "ABX9TyNIvbKj+LoSj5Y1+CWCXEdv",
   "name": "Data Types Warm-up.ipynb",
   "provenance": []
  },
  "kernelspec": {
   "display_name": "Python 3",
   "language": "python",
   "name": "python3"
  },
  "language_info": {
   "codemirror_mode": {
    "name": "ipython",
    "version": 3
   },
   "file_extension": ".py",
   "mimetype": "text/x-python",
   "name": "python",
   "nbconvert_exporter": "python",
   "pygments_lexer": "ipython3",
   "version": "3.8.8"
  }
 },
 "nbformat": 4,
 "nbformat_minor": 1
}
